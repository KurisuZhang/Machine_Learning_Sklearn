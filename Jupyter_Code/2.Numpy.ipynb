{
 "cells": [
  {
   "cell_type": "markdown",
   "metadata": {
    "colab_type": "text",
    "id": "3DFOMAjitXQ_"
   },
   "source": [
    "# numpy"
   ]
  },
  {
   "cell_type": "markdown",
   "metadata": {
    "colab_type": "text",
    "id": "2LifI3XjtXRA"
   },
   "source": [
    "##  基础操作"
   ]
  },
  {
   "cell_type": "code",
   "execution_count": 10,
   "metadata": {
    "ExecuteTime": {
     "end_time": "2020-03-09T23:38:24.145618Z",
     "start_time": "2020-03-09T23:38:24.139487Z"
    },
    "colab": {
     "base_uri": "https://localhost:8080/",
     "height": 35
    },
    "colab_type": "code",
    "id": "ugP-eXOZtXRC",
    "outputId": "7d540ddf-8b3c-422b-ea66-28564fcc1cac"
   },
   "outputs": [
    {
     "data": {
      "text/plain": [
       "(3, 5)"
      ]
     },
     "execution_count": 10,
     "metadata": {},
     "output_type": "execute_result"
    }
   ],
   "source": [
    "# numpy.array\n",
    "import numpy as np\n",
    "data=np.arange(15).reshape(3,5)\n",
    "data.shape"
   ]
  },
  {
   "cell_type": "code",
   "execution_count": null,
   "metadata": {
    "colab": {
     "base_uri": "https://localhost:8080/",
     "height": 67
    },
    "colab_type": "code",
    "id": "JqTk4h2HtXRL",
    "outputId": "72b3f751-041f-4056-91f7-857182f122c1"
   },
   "outputs": [],
   "source": [
    "# np.ones & np.ones \n",
    "# zeros(shape, dtype=float, order='C')\n",
    "np.zeros(10,dtype=np.float64)\n",
    "# 创建二维的矩阵\n",
    "np.zeros((3,5))"
   ]
  },
  {
   "cell_type": "code",
   "execution_count": null,
   "metadata": {
    "colab": {
     "base_uri": "https://localhost:8080/",
     "height": 34
    },
    "colab_type": "code",
    "id": "3tDO9S_WtXRQ",
    "outputId": "9ff11201-4535-46a4-8fda-0e213fb93b5b"
   },
   "outputs": [],
   "source": [
    "# np.arange \n",
    "# 生成一个由启示 终止 和 步长 决定的numpy矩阵\n",
    "np.arange(0,10,2)"
   ]
  },
  {
   "cell_type": "code",
   "execution_count": 11,
   "metadata": {
    "code_folding": [],
    "colab": {},
    "colab_type": "code",
    "id": "bqW2YRG7tXRW",
    "outputId": "e736568a-36ff-4d91-e902-94046542c5ef"
   },
   "outputs": [
    {
     "data": {
      "text/plain": [
       "array([ 0.,  1.,  2.,  3.,  4.,  5.,  6.,  7.,  8.,  9., 10.])"
      ]
     },
     "execution_count": 11,
     "metadata": {},
     "output_type": "execute_result"
    }
   ],
   "source": [
    "# np.linspace\n",
    "# 给定一个范围攫取多少点,右侧为包括此范围\n",
    "# np.linspace(['start', 'stop', 'num=50', 'endpoint=True', 'retstep=False', 'dtype=None', 'axis=0'])\n",
    "np.linspace(0,10,11)"
   ]
  },
  {
   "cell_type": "code",
   "execution_count": null,
   "metadata": {
    "code_folding": [],
    "colab": {
     "base_uri": "https://localhost:8080/",
     "height": 67
    },
    "colab_type": "code",
    "id": "Je1q_UU4tXRb",
    "outputId": "289694ec-f480-456d-b406-e6a8ead08cf0"
   },
   "outputs": [],
   "source": [
    "#np.random\n",
    "#生成随机数,前闭后开\n",
    "# randint(low, high=None, size=None, dtype='l')\n",
    "np.random.seed(666)\n",
    "np.random.randint(0,10,size=(3,4))"
   ]
  },
  {
   "cell_type": "code",
   "execution_count": null,
   "metadata": {
    "colab": {},
    "colab_type": "code",
    "id": "4FcwHY7BtXRn",
    "outputId": "4b4ca4bf-7734-4153-bbda-fb5d850ad809"
   },
   "outputs": [],
   "source": [
    "\"\"\"\n",
    "np.random.normal\n",
    "loc：float\n",
    "此概率分布的均值（对应着整个分布的中心centre）\n",
    "scale：float\n",
    "此概率分布的标准差（对应于分布的宽度，scale越大越矮胖，scale越小，越瘦高）\n",
    "\"\"\"\n",
    "# normal(loc=0.0, scale=1.0, size=None)\n",
    "np.random.normal(10,2,(2,2))"
   ]
  },
  {
   "cell_type": "code",
   "execution_count": null,
   "metadata": {
    "colab": {
     "base_uri": "https://localhost:8080/",
     "height": 67
    },
    "colab_type": "code",
    "id": "rVElCxIRtXRs",
    "outputId": "5db2747c-90ec-4601-f2fb-39a62b6584db"
   },
   "outputs": [],
   "source": [
    "# 构造数组\n",
    "x = np.arange(15).reshape(3,5)\n",
    "# 维度\n",
    "x.ndim\n",
    "# 维度元组\n",
    "x.shape\n",
    "# 元素个数\n",
    "x.size\n",
    "# 可以用-1代替不确定\n",
    "x = x.reshape(5,-1) "
   ]
  },
  {
   "cell_type": "code",
   "execution_count": 12,
   "metadata": {
    "colab": {},
    "colab_type": "code",
    "id": "-EYY63AYtXRx",
    "outputId": "72ddaf02-8ab1-4b2d-ec79-2d4d56d99e36"
   },
   "outputs": [
    {
     "name": "stdout",
     "output_type": "stream",
     "text": [
      "索引: 3\n",
      "切片操作: [[5]\n",
      " [8]]\n",
      "取某一行: [[0 1 2]]\n",
      "取某一列: [[ 0]\n",
      " [ 3]\n",
      " [ 6]\n",
      " [ 9]\n",
      " [12]]\n"
     ]
    }
   ],
   "source": [
    "# 数据访问,截取,拷贝\n",
    "# 索引特定元素的方法\n",
    "print(\"索引: \"+str(x[1,0]))\n",
    "# 切片操作\n",
    "print(\"切片操作: \"+str(x[1:3:1,2:4:1]))\n",
    "# 取某一行\n",
    "print(\"取某一行: \"+str(x[0:1:1,::]))\n",
    "# 取某一列\n",
    "print(\"取某一列: \"+str(x[0::,0:1:1]))\n",
    "# 深度拷贝\n",
    "sub_x = x[0::,0:1:1].copy()"
   ]
  },
  {
   "cell_type": "markdown",
   "metadata": {
    "colab_type": "text",
    "id": "tAbqAl2atXR7"
   },
   "source": [
    "## 合并和分割"
   ]
  },
  {
   "cell_type": "code",
   "execution_count": 13,
   "metadata": {
    "colab": {
     "base_uri": "https://localhost:8080/",
     "height": 156
    },
    "colab_type": "code",
    "id": "Rexl4uxgtXR8",
    "outputId": "d748140d-a18c-4772-9880-365f9ec6cc23"
   },
   "outputs": [
    {
     "name": "stdout",
     "output_type": "stream",
     "text": [
      "[[1 2 3 1 2 3]\n",
      " [4 5 6 4 5 6]]\n",
      "[[1 2 3]\n",
      " [4 5 6]\n",
      " [1 2 3]\n",
      " [4 5 6]]\n",
      "[[1 2 3 1 2 3]\n",
      " [4 5 6 4 5 6]]\n"
     ]
    }
   ],
   "source": [
    "# 合并操作\n",
    "x = np.array([[1,2,3],[4,5,6]])\n",
    "print(np.concatenate((x,x),axis=1))\n",
    "print(np.row_stack([x,x]))\n",
    "print(np.column_stack([x,x]))\n",
    "# print(np.hstack([x,x]))\n",
    "# print(np.vstack([x,x]))"
   ]
  },
  {
   "cell_type": "code",
   "execution_count": 14,
   "metadata": {
    "colab": {
     "base_uri": "https://localhost:8080/",
     "height": 118
    },
    "colab_type": "code",
    "id": "iN_Ml5NwtXSK",
    "outputId": "5188f299-8e17-4d1b-bad0-c5bdbf813461"
   },
   "outputs": [
    {
     "name": "stdout",
     "output_type": "stream",
     "text": [
      "[[1]\n",
      " [4]]\n",
      "[[2]\n",
      " [5]]\n",
      "[[3]\n",
      " [6]]\n"
     ]
    }
   ],
   "source": [
    "# 分离操作\n",
    "# numpy.split(ary, indices_or_sections, axis)\n",
    "# indices_or_sections：果是一个整数，就用该数平均切分，如果是一个数组，为沿轴切分的位置（左开右闭）\n",
    "# np.hsplit & np.vsplit\n",
    "X1,X2,X3 = np.split(x,[1,2],axis=1)\n",
    "print(X1)\n",
    "print(X2)\n",
    "print(X3)"
   ]
  },
  {
   "cell_type": "markdown",
   "metadata": {
    "colab_type": "text",
    "id": "Sj3XrVdRtXSO"
   },
   "source": [
    "## 数学与矩阵运算"
   ]
  },
  {
   "cell_type": "code",
   "execution_count": null,
   "metadata": {
    "colab": {
     "base_uri": "https://localhost:8080/",
     "height": 34
    },
    "colab_type": "code",
    "id": "ozVkm3s1tXSP",
    "outputId": "45fabf22-f659-40ce-f601-555516f9b8e9"
   },
   "outputs": [],
   "source": [
    "print(np.arange(1,13))"
   ]
  },
  {
   "cell_type": "code",
   "execution_count": null,
   "metadata": {
    "colab": {
     "base_uri": "https://localhost:8080/",
     "height": 101
    },
    "colab_type": "code",
    "id": "FEjV4yfXtXST",
    "outputId": "d4f0deac-89a5-4750-a6ad-4b06bd6daa7e",
    "scrolled": true
   },
   "outputs": [],
   "source": [
    "# 加减乘除\n",
    "print(x+3)\n",
    "print(x-3)\n",
    "print(x*3)\n",
    "print(x/3)"
   ]
  },
  {
   "cell_type": "code",
   "execution_count": null,
   "metadata": {
    "colab": {
     "base_uri": "https://localhost:8080/",
     "height": 134
    },
    "colab_type": "code",
    "id": "4PFgaI80tXSW",
    "outputId": "c0cada70-a10f-48a2-d222-d6667e663e65",
    "scrolled": true
   },
   "outputs": [],
   "source": [
    "# 函数数学运算\n",
    "print(np.max(x))\n",
    "print(np.min(x))\n",
    "print(np.log10(x))\n",
    "print(np.exp(x))"
   ]
  },
  {
   "cell_type": "code",
   "execution_count": 16,
   "metadata": {
    "colab": {
     "base_uri": "https://localhost:8080/",
     "height": 134
    },
    "colab_type": "code",
    "id": "EgFSo96utXSa",
    "outputId": "3e542dbe-df5e-48bd-8cec-78d3a812646d"
   },
   "outputs": [
    {
     "name": "stdout",
     "output_type": "stream",
     "text": [
      "[[ 0  1  2  3]\n",
      " [ 4  5  6  7]\n",
      " [ 8  9 10 11]]\n",
      "[[ 0  1  2]\n",
      " [ 3  4  5]\n",
      " [ 6  7  8]\n",
      " [ 9 10 11]]\n"
     ]
    }
   ],
   "source": [
    "# 两个矩阵运算\n",
    "A = np.arange(12).reshape(3,4)\n",
    "B = np.arange(12).reshape(4,3)\n",
    "print(A)\n",
    "print(B)"
   ]
  },
  {
   "cell_type": "code",
   "execution_count": 17,
   "metadata": {
    "colab": {},
    "colab_type": "code",
    "id": "r5EdsyOAtXSf",
    "outputId": "4250eb17-fe88-4dc6-99e2-40999e96c898"
   },
   "outputs": [
    {
     "name": "stdout",
     "output_type": "stream",
     "text": [
      "[[ 42  48  54]\n",
      " [114 136 158]\n",
      " [186 224 262]]\n",
      "[[ 0  4  8]\n",
      " [ 1  5  9]\n",
      " [ 2  6 10]\n",
      " [ 3  7 11]]\n",
      "[[ 0  1  4  9]\n",
      " [ 0  5 12 21]\n",
      " [ 0  9 20 33]]\n",
      "[[ 1.00000000e+00  2.33146835e-15 -1.66533454e-16]\n",
      " [-1.66533454e-16  1.00000000e+00  9.43689571e-16]\n",
      " [-2.77555756e-16  3.33066907e-16  1.00000000e+00]]\n"
     ]
    }
   ],
   "source": [
    "# 点乘法,矩阵乘法\n",
    "print(A.dot(B))\n",
    "# 转置\n",
    "print(A.T)\n",
    "# 向量和矩阵运算\n",
    "a = np.arange(4)\n",
    "print(A * a)\n",
    "# 矩阵的逆运算，逆矩阵\n",
    "# np.linalg.inv()\n",
    "a = np.array([[1,2,3],\n",
    "              [4,5,7],\n",
    "              [7,8,9]])\n",
    "print(a.dot(np.linalg.pinv(a)))"
   ]
  },
  {
   "cell_type": "markdown",
   "metadata": {
    "colab_type": "text",
    "id": "fYchI-SJtXSk"
   },
   "source": [
    "## 张量中的特征"
   ]
  },
  {
   "cell_type": "code",
   "execution_count": 18,
   "metadata": {
    "colab": {},
    "colab_type": "code",
    "id": "Q3UFokHYtXSl",
    "outputId": "45de5f57-f913-4b60-fe31-78d6bb21603b"
   },
   "outputs": [
    {
     "name": "stdout",
     "output_type": "stream",
     "text": [
      "[ 6 16 24]\n",
      "[  6 140 504]\n",
      "5.111111111111111\n",
      "5.0\n",
      "24.75\n"
     ]
    }
   ],
   "source": [
    "# 和\n",
    "print(np.sum(a,axis=1))\n",
    "# 乘积\n",
    "print(np.product(a,axis=1))\n",
    "# 中位数,平均数,可以加axis\n",
    "print(np.mean(a))\n",
    "print(np.median(a))\n",
    "# 百分位点求值\n",
    "a = np.arange(100)\n",
    "print(np.percentile(a,q=25))"
   ]
  },
  {
   "cell_type": "markdown",
   "metadata": {
    "colab_type": "text",
    "id": "ZDExfVExtXSo"
   },
   "source": [
    "## 排序乱序生成序列"
   ]
  },
  {
   "cell_type": "code",
   "execution_count": 19,
   "metadata": {
    "colab": {},
    "colab_type": "code",
    "id": "TyTwII-rtXSp",
    "outputId": "5054412f-1dd2-4f88-b80a-981898c061e6"
   },
   "outputs": [
    {
     "name": "stdout",
     "output_type": "stream",
     "text": [
      "[90 52 79 74 38 35 77 65 95 61 40 96 19  3 16 43 58 26 94 23  8 29  5 71\n",
      " 66 22 10 31 70 86 85 13 46 51  7  9 83 69 24  0 64 78 76 11 33 55 27 68\n",
      " 25 28 89 98  6 20 15 57 92 32 56 50 49 82 39 75 63 91 84 62 18 97 44 80\n",
      "  2 53 81 37 54 87 67 72 73 88 48  4 21 41 93 47  1 42 45 59 60 34 99 36\n",
      " 30 14 17 12]\n",
      "[ 0  1  2  3  4  5  6  7  8  9 10 11 12 13 14 15 16 17 18 19 20 21 22 23\n",
      " 24 25 26 27 28 29 30 31 32 33 34 35 36 37 38 39 40 41 42 43 44 45 46 47\n",
      " 48 49 50 51 52 53 54 55 56 57 58 59 60 61 62 63 64 65 66 67 68 69 70 71\n",
      " 72 73 74 75 76 77 78 79 80 81 82 83 84 85 86 87 88 89 90 91 92 93 94 95\n",
      " 96 97 98 99]\n",
      "[ True  True  True  True  True  True  True  True  True  True  True  True\n",
      "  True  True  True  True  True  True  True  True  True  True  True  True\n",
      "  True  True  True  True  True  True  True  True  True  True  True  True\n",
      "  True  True  True  True  True  True  True  True  True  True  True  True\n",
      "  True  True False False False False False False False False False False\n",
      " False False False False False False False False False False False False\n",
      " False False False False False False False False False False False False\n",
      " False False False False False False False False False False False False\n",
      " False False False False]\n",
      "[51 52 53 54 55 56 57 58 59 60 61 62 63 64 65 66 67 68 69 70 71 72 73 74\n",
      " 75 76 77 78 79 80 81 82 83 84 85 86 87 88 89 90 91 92 93 94 95 96 97 98\n",
      " 99]\n",
      "True\n",
      "False\n",
      "4\n"
     ]
    }
   ],
   "source": [
    "# 打乱循序\n",
    "np.random.shuffle(a)\n",
    "print(a)\n",
    "# 排序\n",
    "a.sort()\n",
    "print(a)\n",
    "# 生成某个条件索引\n",
    "print(a<50)\n",
    "# 将索引序号传入\n",
    "print(a[a>50])\n",
    "# 有任意满足某一条件\n",
    "print(np.any(a>20))\n",
    "# 全部满足某一条件\n",
    "print(np.all(a>20))\n",
    "# 两个 求 交集用 & 位运算\n",
    "print(np.sum((a>3) & (a<8)))"
   ]
  }
 ],
 "metadata": {
  "colab": {
   "collapsed_sections": [],
   "include_colab_link": true,
   "name": "Numpy_Matplotlib.ipynb",
   "provenance": [],
   "toc_visible": true
  },
  "kernelspec": {
   "display_name": "Python 3",
   "language": "python",
   "name": "python3"
  },
  "language_info": {
   "codemirror_mode": {
    "name": "ipython",
    "version": 3
   },
   "file_extension": ".py",
   "mimetype": "text/x-python",
   "name": "python",
   "nbconvert_exporter": "python",
   "pygments_lexer": "ipython3",
   "version": "3.7.3"
  },
  "toc": {
   "base_numbering": 1,
   "nav_menu": {
    "height": "445px",
    "width": "311px"
   },
   "number_sections": true,
   "sideBar": true,
   "skip_h1_title": false,
   "title_cell": "Table of Contents",
   "title_sidebar": "Contents",
   "toc_cell": false,
   "toc_position": {
    "height": "calc(100% - 180px)",
    "left": "10px",
    "top": "150px",
    "width": "276.797px"
   },
   "toc_section_display": true,
   "toc_window_display": true
  },
  "varInspector": {
   "cols": {
    "lenName": 16,
    "lenType": 16,
    "lenVar": 40
   },
   "kernels_config": {
    "python": {
     "delete_cmd_postfix": "",
     "delete_cmd_prefix": "del ",
     "library": "var_list.py",
     "varRefreshCmd": "print(var_dic_list())"
    },
    "r": {
     "delete_cmd_postfix": ") ",
     "delete_cmd_prefix": "rm(",
     "library": "var_list.r",
     "varRefreshCmd": "cat(var_dic_list()) "
    }
   },
   "types_to_exclude": [
    "module",
    "function",
    "builtin_function_or_method",
    "instance",
    "_Feature"
   ],
   "window_display": false
  }
 },
 "nbformat": 4,
 "nbformat_minor": 1
}
