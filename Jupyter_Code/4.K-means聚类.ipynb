{
 "cells": [
  {
   "cell_type": "markdown",
   "metadata": {},
   "source": [
    "# k-means聚类算法"
   ]
  },
  {
   "cell_type": "markdown",
   "metadata": {
    "colab_type": "text",
    "id": "AZvQti-Ipgfg"
   },
   "source": [
    "## 原理"
   ]
  },
  {
   "cell_type": "markdown",
   "metadata": {
    "colab_type": "text",
    "id": "rxktz6_Dpgfk"
   },
   "source": [
    "### 步骤"
   ]
  },
  {
   "cell_type": "markdown",
   "metadata": {
    "colab_type": "text",
    "id": "8vt1eEI9pgfm"
   },
   "source": [
    "- 求距离\n",
    "    - result = np.sqrt(np.sum((x_train - i) ** 2, axis=1))  \n",
    "      \n",
    "      \n",
    "- 寻找最小的k个距离\n",
    "    - result_index = np.argsort(result)[:k]  \n",
    "      \n",
    "      \n",
    "- 统计\n",
    "    - votes = Counter(predict_result)"
   ]
  },
  {
   "cell_type": "markdown",
   "metadata": {
    "colab_type": "text",
    "id": "739rbjp_pgfo"
   },
   "source": [
    "### 基础原理"
   ]
  },
  {
   "cell_type": "markdown",
   "metadata": {
    "colab_type": "text",
    "id": "CQ-1jEpRpgfp"
   },
   "source": [
    "距离相近的数据大概率拥有相同的特性  \n",
    "  \n",
    "  \n",
    "欧拉距离:\n",
    "    $$ d=\\sqrt{ \\sum_{i=1}^{n}(x_{i}^{a} - x_{i}^{b})^2} $$  \n",
    "曼哈顿距离:  \n",
    "    $$ d=\\sum_{i=1}^{n}\\left|(x_{i}^{a} - x_{i}^{b})\\right| $$ \n",
    "明可夫距离:  \n",
    "    $$ d={(\\sum_{i=1}^{n}\\left|x_{i}^{a} - x_{i}^{b}\\right|^p}) ^\\frac{1}{p}$$ "
   ]
  },
  {
   "cell_type": "markdown",
   "metadata": {
    "colab_type": "text",
    "id": "dfduQ2HIpgfr"
   },
   "source": [
    "### 考虑距离的优化"
   ]
  },
  {
   "cell_type": "markdown",
   "metadata": {
    "colab_type": "text",
    "id": "s2CxknvVpgft"
   },
   "source": [
    "![](https://raw.githubusercontent.com/LinCheungS/PicGo_Image_Storage/master/2020/20200421103414.jpg)"
   ]
  },
  {
   "cell_type": "markdown",
   "metadata": {
    "colab_type": "text",
    "id": "5gXgAzYUpgfu"
   },
   "source": [
    "### 优点与缺点"
   ]
  },
  {
   "cell_type": "markdown",
   "metadata": {
    "colab_type": "text",
    "id": "TAjHdxqBpgfw"
   },
   "source": [
    "1. 优点  \n",
    "    - 算法简单\n",
    "    - 天然可以解决多分类问题  \n",
    "      \n",
    "      \n",
    "2. 缺点\n",
    "    - 效率低下(m个样本,n个特征,时间成本O(m*n))\n",
    "    - 高度数据相关\n",
    "    - 预测的结果不具有可解释性\n",
    "    - 维数灾难\n",
    "      - ![](https://raw.githubusercontent.com/LinCheungS/PicGo_Image_Storage/master/2020/20200421103428.jpg)"
   ]
  },
  {
   "cell_type": "markdown",
   "metadata": {
    "colab_type": "text",
    "id": "3MoTkGCXpgfy"
   },
   "source": [
    "## 底层实现"
   ]
  },
  {
   "cell_type": "code",
   "execution_count": 1,
   "metadata": {
    "ExecuteTime": {
     "end_time": "2020-03-10T04:20:48.105329Z",
     "start_time": "2020-03-10T04:20:48.095571Z"
    },
    "colab": {},
    "colab_type": "code",
    "id": "tnsFswyMpgfz"
   },
   "outputs": [],
   "source": [
    "import numpy as np\n",
    "from collections import Counter\n",
    "\n",
    "class KNN:\n",
    "    def __init__(self, data):\n",
    "        self.data = data\n",
    "\n",
    "    def split_data(self, ratio):\n",
    "        index = np.random.permutation(len(self.data.target))\n",
    "        train_data_size = int(len(index) * ratio)\n",
    "        index_train = index[:train_data_size]\n",
    "        index_text = index[train_data_size:]\n",
    "        x_train = self.data.data[index_train]\n",
    "        y_train = self.data.target[index_train]\n",
    "        x_text = self.data.data[index_text]\n",
    "        y_text = self.data.target[index_text]\n",
    "        return x_train, y_train, x_text, y_text\n",
    "\n",
    "    def do_knn(self, x_train, y_train, x_text, y_text, k):\n",
    "        final = np.array([])\n",
    "        for i in x_text:\n",
    "            result = np.sqrt(np.sum((x_train - i) ** 2, axis=1))\n",
    "            result_index = np.argsort(result)[:k]\n",
    "            predict_result = y_train[result_index]\n",
    "            votes = Counter(predict_result)\n",
    "            final_results = votes.most_common(1)[0][0]\n",
    "            final = np.append(final, final_results)\n",
    "        accuracy = sum(final == y_text) / len(y_text)\n",
    "        return \"准确率是:\" + str(accuracy)"
   ]
  },
  {
   "cell_type": "code",
   "execution_count": 2,
   "metadata": {
    "ExecuteTime": {
     "end_time": "2020-03-10T04:20:49.325208Z",
     "start_time": "2020-03-10T04:20:49.314403Z"
    },
    "colab": {},
    "colab_type": "code",
    "id": "rBwSWHvjpgf5",
    "outputId": "7e3706d4-57c3-400e-f9ef-143e1db60203"
   },
   "outputs": [
    {
     "data": {
      "text/plain": [
       "'准确率是:0.9333333333333333'"
      ]
     },
     "execution_count": 2,
     "metadata": {},
     "output_type": "execute_result"
    }
   ],
   "source": [
    "import sklearn.datasets as datasets\n",
    "data = datasets.load_iris()\n",
    "knn = KNN(data)\n",
    "x_train, y_train, x_text, y_text = knn.split_data(0.8)\n",
    "knn.do_knn(x_train, y_train, x_text, y_text,k=3)"
   ]
  },
  {
   "cell_type": "markdown",
   "metadata": {
    "colab_type": "text",
    "id": "dwPcqdaTpgf_"
   },
   "source": [
    "## sklearn中的实现"
   ]
  },
  {
   "cell_type": "markdown",
   "metadata": {},
   "source": [
    "### 通用流程"
   ]
  },
  {
   "cell_type": "code",
   "execution_count": 3,
   "metadata": {
    "ExecuteTime": {
     "end_time": "2020-03-10T05:00:45.247124Z",
     "start_time": "2020-03-10T05:00:45.098404Z"
    },
    "colab": {},
    "colab_type": "code",
    "id": "etRMbgcNpggC",
    "outputId": "0919b19f-7509-4360-852f-c91e239eb2d2"
   },
   "outputs": [
    {
     "data": {
      "text/plain": [
       "1.0"
      ]
     },
     "execution_count": 3,
     "metadata": {},
     "output_type": "execute_result"
    }
   ],
   "source": [
    "import numpy as np\n",
    "from sklearn import datasets\n",
    "from sklearn.model_selection import train_test_split\n",
    "from sklearn.neighbors import KNeighborsClassifier\n",
    "\n",
    "#加载数据\n",
    "digits = datasets.load_digits()\n",
    "x = digits.data\n",
    "y = digits.target\n",
    "\n",
    "#分离数据\n",
    "X_train, X_test, y_train, y_test = train_test_split(x,y,test_size=0.2)\n",
    "\n",
    "#训练数据\n",
    "knn= KNeighborsClassifier(n_neighbors=3,n_jobs=2)\n",
    "knn.fit(X_train,y_train)\n",
    "knn.score(X_test,y_test)"
   ]
  },
  {
   "cell_type": "markdown",
   "metadata": {
    "colab_type": "text",
    "id": "hKf-Pav4pggN"
   },
   "source": [
    "### 手动寻找参数p"
   ]
  },
  {
   "cell_type": "code",
   "execution_count": 4,
   "metadata": {
    "ExecuteTime": {
     "end_time": "2020-03-10T04:29:16.372552Z",
     "start_time": "2020-03-10T04:23:34.865994Z"
    },
    "colab": {},
    "colab_type": "code",
    "id": "_24RqJfopggP",
    "outputId": "f268b96a-3852-4a8b-9c46-ddba01765faf"
   },
   "outputs": [
    {
     "name": "stdout",
     "output_type": "stream",
     "text": [
      "best_accuracy = 1.0\n",
      "best_p = 2\n",
      "best_k = 3\n"
     ]
    }
   ],
   "source": [
    "best_p = 0.0\n",
    "best_k = 0.0\n",
    "best_accuracy = 0.0\n",
    "\n",
    "for p in range(1, 20):\n",
    "\n",
    "    # k的值必须大于0\n",
    "    for k in range(1, 20):\n",
    "        knn = KNeighborsClassifier(\n",
    "            n_neighbors=k, n_jobs=2, weights=\"distance\", p=p)\n",
    "        knn.fit(X_train, y_train)\n",
    "        accuracy = knn.score(X_test, y_test)\n",
    "        if accuracy > best_accuracy:\n",
    "            best_accuracy = accuracy\n",
    "            best_p = p\n",
    "            best_k = k\n",
    "print(\"best_accuracy = {a}\".format(a=best_accuracy))\n",
    "print(\"best_p = {a}\".format(a=best_p))\n",
    "print(\"best_k = {a}\".format(a=best_k))"
   ]
  },
  {
   "cell_type": "markdown",
   "metadata": {
    "colab_type": "text",
    "id": "qjI5ky4QpggT"
   },
   "source": [
    "### 网格搜索参数p"
   ]
  },
  {
   "cell_type": "code",
   "execution_count": 5,
   "metadata": {
    "ExecuteTime": {
     "end_time": "2020-03-10T04:43:02.322304Z",
     "start_time": "2020-03-10T04:43:02.318435Z"
    },
    "colab": {},
    "colab_type": "code",
    "id": "vw_vDvr8pggU"
   },
   "outputs": [],
   "source": [
    "# (自带交叉验证)\n",
    "param_grid = [\n",
    "    {\n",
    "        \"weights\": [\"uniform\", \"distance\"],\n",
    "        \"n_neighbors\": [i for i in range(1, 10)],\n",
    "        \"p\": [i for i in range(1, 10)]\n",
    "    }\n",
    "]"
   ]
  },
  {
   "cell_type": "code",
   "execution_count": 6,
   "metadata": {
    "ExecuteTime": {
     "end_time": "2020-03-10T05:08:03.708645Z",
     "start_time": "2020-03-10T05:01:01.789921Z"
    },
    "colab": {},
    "colab_type": "code",
    "id": "ymlMXugZpgga",
    "outputId": "78b9ff52-0c32-48c1-deb9-597a7eb87ba5"
   },
   "outputs": [
    {
     "name": "stdout",
     "output_type": "stream",
     "text": [
      "Fitting 5 folds for each of 162 candidates, totalling 810 fits\n"
     ]
    },
    {
     "name": "stderr",
     "output_type": "stream",
     "text": [
      "[Parallel(n_jobs=-1)]: Using backend LokyBackend with 4 concurrent workers.\n",
      "[Parallel(n_jobs=-1)]: Done  33 tasks      | elapsed:    3.3s\n",
      "[Parallel(n_jobs=-1)]: Done 192 tasks      | elapsed:   16.9s\n",
      "[Parallel(n_jobs=-1)]: Done 533 tasks      | elapsed:   51.2s\n",
      "[Parallel(n_jobs=-1)]: Done 810 out of 810 | elapsed:  1.3min finished\n"
     ]
    },
    {
     "data": {
      "text/plain": [
       "KNeighborsClassifier(algorithm='auto', leaf_size=30, metric='minkowski',\n",
       "                     metric_params=None, n_jobs=None, n_neighbors=1, p=5,\n",
       "                     weights='uniform')"
      ]
     },
     "execution_count": 6,
     "metadata": {},
     "output_type": "execute_result"
    }
   ],
   "source": [
    "from sklearn.model_selection import GridSearchCV\n",
    "\n",
    "\n",
    "knn = KNeighborsClassifier()\n",
    "#传入算法与网格参数\n",
    "grid_search = GridSearchCV(knn,param_grid,n_jobs=-1,verbose=2)\n",
    "grid_search.fit(X_train,y_train)\n",
    "# 打印最好的参数\n",
    "grid_search.best_estimator_"
   ]
  },
  {
   "cell_type": "code",
   "execution_count": 7,
   "metadata": {
    "ExecuteTime": {
     "end_time": "2020-03-10T05:08:20.545576Z",
     "start_time": "2020-03-10T05:08:20.541770Z"
    },
    "colab": {},
    "colab_type": "code",
    "id": "OX0ts8nGpgge",
    "outputId": "864a4201-db44-44ba-b365-9667c2c4fb85"
   },
   "outputs": [
    {
     "data": {
      "text/plain": [
       "0.9867813588850174"
      ]
     },
     "execution_count": 7,
     "metadata": {},
     "output_type": "execute_result"
    }
   ],
   "source": [
    "# 训练时的最好成绩\n",
    "grid_search.best_score_"
   ]
  },
  {
   "cell_type": "code",
   "execution_count": 8,
   "metadata": {
    "ExecuteTime": {
     "end_time": "2020-03-10T05:08:25.681204Z",
     "start_time": "2020-03-10T05:08:25.675417Z"
    },
    "colab": {},
    "colab_type": "code",
    "id": "TKTeGL-Upggi",
    "outputId": "5c9f3ba1-fb35-424b-f8ee-c1932e3be047"
   },
   "outputs": [
    {
     "data": {
      "text/plain": [
       "{'n_neighbors': 1, 'p': 5, 'weights': 'uniform'}"
      ]
     },
     "execution_count": 8,
     "metadata": {},
     "output_type": "execute_result"
    }
   ],
   "source": [
    "# 最好的参数\n",
    "grid_search.best_params_"
   ]
  },
  {
   "cell_type": "code",
   "execution_count": 9,
   "metadata": {
    "ExecuteTime": {
     "end_time": "2020-03-10T05:12:05.386233Z",
     "start_time": "2020-03-10T05:12:03.877594Z"
    },
    "colab": {},
    "colab_type": "code",
    "id": "4YTEhv8Epggm",
    "outputId": "874cdf0e-8934-4268-b3ec-09b643ae174b"
   },
   "outputs": [
    {
     "data": {
      "text/plain": [
       "1.0"
      ]
     },
     "execution_count": 9,
     "metadata": {},
     "output_type": "execute_result"
    }
   ],
   "source": [
    "# 把最高的模型赋值给new_knn_clf\n",
    "new_knn_clf = grid_search.best_estimator_\n",
    "new_knn_clf.score(X_test, y_test)"
   ]
  },
  {
   "cell_type": "code",
   "execution_count": 10,
   "metadata": {
    "ExecuteTime": {
     "end_time": "2020-03-10T05:12:47.788198Z",
     "start_time": "2020-03-10T05:12:46.286796Z"
    },
    "colab": {},
    "colab_type": "code",
    "id": "qyFAd5RZpggr",
    "outputId": "e548a929-d01d-4a3c-a037-0d8ca000cfa7"
   },
   "outputs": [
    {
     "data": {
      "text/plain": [
       "array([7, 1, 5, 0, 1, 2, 6, 5, 6, 5, 7, 4, 3, 4, 9, 0, 8, 5, 1, 7, 6, 3,\n",
       "       3, 4, 5, 1, 7, 9, 7, 9, 8, 0, 9, 2, 2, 0, 2, 4, 3, 8, 9, 1, 0, 1,\n",
       "       9, 0, 1, 2, 0, 0, 5, 7, 0, 7, 5, 1, 8, 4, 1, 4, 2, 6, 6, 9, 2, 6,\n",
       "       3, 6, 6, 4, 6, 1, 2, 4, 5, 1, 2, 7, 6, 4, 1, 3, 0, 9, 7, 3, 8, 4,\n",
       "       5, 1, 3, 2, 2, 3, 8, 9, 9, 5, 7, 7, 2, 9, 2, 4, 5, 5, 3, 0, 9, 4,\n",
       "       2, 8, 3, 7, 5, 3, 6, 6, 1, 3, 3, 9, 7, 3, 2, 4, 7, 9, 0, 5, 2, 0,\n",
       "       0, 3, 1, 8, 4, 4, 4, 6, 5, 8, 9, 9, 5, 1, 2, 7, 1, 7, 9, 1, 5, 5,\n",
       "       2, 4, 2, 2, 8, 1, 5, 7, 5, 0, 9, 7, 2, 2, 8, 3, 2, 8, 0, 6, 2, 1,\n",
       "       5, 5, 0, 7, 0, 4, 8, 1, 8, 6, 3, 5, 4, 8, 8, 5, 6, 7, 2, 4, 6, 9,\n",
       "       9, 4, 8, 3, 9, 6, 0, 0, 9, 0, 4, 0, 6, 3, 6, 2, 7, 4, 8, 8, 7, 1,\n",
       "       8, 1, 4, 2, 1, 3, 2, 8, 1, 4, 5, 6, 4, 3, 4, 9, 2, 7, 3, 5, 2, 1,\n",
       "       1, 5, 5, 3, 3, 3, 4, 1, 6, 0, 1, 3, 9, 9, 5, 6, 2, 2, 9, 9, 3, 9,\n",
       "       3, 8, 7, 9, 8, 0, 8, 3, 4, 8, 6, 8, 2, 8, 8, 7, 1, 2, 0, 6, 0, 8,\n",
       "       1, 7, 5, 0, 3, 0, 0, 7, 9, 9, 2, 7, 3, 3, 7, 5, 7, 0, 6, 7, 2, 2,\n",
       "       7, 5, 5, 0, 3, 2, 3, 5, 1, 4, 1, 2, 9, 1, 4, 3, 4, 7, 5, 8, 5, 1,\n",
       "       1, 3, 9, 1, 0, 4, 5, 6, 8, 9, 3, 1, 3, 1, 7, 6, 0, 8, 7, 2, 4, 2,\n",
       "       0, 5, 1, 7, 1, 2, 5, 8])"
      ]
     },
     "execution_count": 10,
     "metadata": {},
     "output_type": "execute_result"
    }
   ],
   "source": [
    "new_knn_clf.predict(X_test)"
   ]
  }
 ],
 "metadata": {
  "colab": {
   "include_colab_link": true,
   "name": "KNN_K近邻算法.ipynb",
   "provenance": [],
   "toc_visible": true
  },
  "kernelspec": {
   "display_name": "Python 3",
   "language": "python",
   "name": "python3"
  },
  "language_info": {
   "codemirror_mode": {
    "name": "ipython",
    "version": 3
   },
   "file_extension": ".py",
   "mimetype": "text/x-python",
   "name": "python",
   "nbconvert_exporter": "python",
   "pygments_lexer": "ipython3",
   "version": "3.7.3"
  },
  "toc": {
   "base_numbering": 1,
   "nav_menu": {},
   "number_sections": true,
   "sideBar": true,
   "skip_h1_title": false,
   "title_cell": "Table of Contents",
   "title_sidebar": "Contents",
   "toc_cell": false,
   "toc_position": {},
   "toc_section_display": true,
   "toc_window_display": true
  },
  "varInspector": {
   "cols": {
    "lenName": 16,
    "lenType": 16,
    "lenVar": 40
   },
   "kernels_config": {
    "python": {
     "delete_cmd_postfix": "",
     "delete_cmd_prefix": "del ",
     "library": "var_list.py",
     "varRefreshCmd": "print(var_dic_list())"
    },
    "r": {
     "delete_cmd_postfix": ") ",
     "delete_cmd_prefix": "rm(",
     "library": "var_list.r",
     "varRefreshCmd": "cat(var_dic_list()) "
    }
   },
   "types_to_exclude": [
    "module",
    "function",
    "builtin_function_or_method",
    "instance",
    "_Feature"
   ],
   "window_display": false
  }
 },
 "nbformat": 4,
 "nbformat_minor": 1
}
