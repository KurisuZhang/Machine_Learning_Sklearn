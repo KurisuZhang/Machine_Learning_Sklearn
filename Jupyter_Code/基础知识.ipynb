{
 "cells": [
  {
   "cell_type": "markdown",
   "metadata": {},
   "source": [
    "# 数据预处理(preprocessing)"
   ]
  },
  {
   "cell_type": "markdown",
   "metadata": {
    "colab_type": "text",
    "id": "NXGgOIJYpggx"
   },
   "source": [
    "## 打乱顺序"
   ]
  },
  {
   "cell_type": "code",
   "execution_count": 1,
   "metadata": {
    "ExecuteTime": {
     "end_time": "2020-03-10T04:03:57.531080Z",
     "start_time": "2020-03-10T04:03:57.525036Z"
    },
    "colab": {},
    "colab_type": "code",
    "id": "YJ7xaZIjpgg2"
   },
   "outputs": [
    {
     "name": "stdout",
     "output_type": "stream",
     "text": [
      "[0 0 0 0 0 0 0 0 0 0 0 0 0 0 0 0 0 0 0 0 0 0 0 0 0 0 0 0 0 0 0 0 0 0 0 0 0\n",
      " 0 0 0 0 0 0 0 0 0 0 0 0 0 1 1 1 1 1 1 1 1 1 1 1 1 1 1 1 1 1 1 1 1 1 1 1 1\n",
      " 1 1 1 1 1 1 1 1 1 1 1 1 1 1 1 1 1 1 1 1 1 1 1 1 1 1 2 2 2 2 2 2 2 2 2 2 2\n",
      " 2 2 2 2 2 2 2 2 2 2 2 2 2 2 2 2 2 2 2 2 2 2 2 2 2 2 2 2 2 2 2 2 2 2 2 2 2\n",
      " 2 2]\n"
     ]
    },
    {
     "data": {
      "text/plain": [
       "(150,)"
      ]
     },
     "execution_count": 1,
     "metadata": {},
     "output_type": "execute_result"
    }
   ],
   "source": [
    "# 生成数据\n",
    "import numpy as np\n",
    "import matplotlib.pyplot as plt\n",
    "from sklearn import datasets\n",
    "iris = datasets.load_iris()\n",
    "x = iris.data\n",
    "y = iris.target\n",
    "print(y)\n",
    "y.shape"
   ]
  },
  {
   "cell_type": "code",
   "execution_count": 0,
   "metadata": {
    "ExecuteTime": {
     "end_time": "2020-03-10T04:00:01.746862Z",
     "start_time": "2020-03-10T04:00:01.741834Z"
    },
    "colab": {},
    "colab_type": "code",
    "id": "rKA1Z_vypgg_",
    "outputId": "4bcb7dbe-31ef-4322-8562-04ff7a2c25e0"
   },
   "outputs": [
    {
     "data": {
      "text/plain": [
       "array([2, 1, 2, 1, 0, 0, 1, 1, 1, 0, 2, 1, 0, 1, 0, 0, 0, 1, 1, 0, 0, 0,\n",
       "       0, 0, 2, 2, 1, 2, 2, 1, 0, 0, 0, 2, 2, 0, 2, 1, 0, 2, 0, 1, 1, 1,\n",
       "       2, 0, 1, 0, 1, 2, 1, 1, 1, 2, 1, 2, 1, 2, 1, 1, 0, 0, 2, 2, 1, 2,\n",
       "       2, 1, 1, 2, 1, 1, 2, 2, 2, 0, 2, 0, 1, 1, 0, 2, 0, 2, 0, 1, 2, 0,\n",
       "       0, 2, 1, 2, 1, 1, 1, 0, 2, 0, 0, 1, 2, 0, 1, 0, 0, 1, 1, 0, 1, 1,\n",
       "       0, 0, 2, 1, 1, 1, 0, 0, 2, 2, 2, 0, 0, 1, 0, 0, 1, 1, 2, 2, 0, 2,\n",
       "       2, 0, 2, 2, 2, 2, 2, 0, 2, 2, 1, 2, 1, 0, 0, 0, 2, 2])"
      ]
     },
     "execution_count": 13,
     "metadata": {
      "tags": []
     },
     "output_type": "execute_result"
    }
   ],
   "source": [
    "# 索引的随机排列\n",
    "shuffle_index = np.random.permutation(150) \n",
    "y = y[shuffle_index]\n",
    "y"
   ]
  },
  {
   "cell_type": "markdown",
   "metadata": {
    "colab_type": "text",
    "id": "7bsAQ3rJpghF"
   },
   "source": [
    "## 数据分离"
   ]
  },
  {
   "cell_type": "markdown",
   "metadata": {},
   "source": [
    "![](https://raw.githubusercontent.com/LinCheungS/PicGo_Image_Storage/master/2020-1/20200423003629.png)"
   ]
  },
  {
   "cell_type": "code",
   "execution_count": 2,
   "metadata": {
    "ExecuteTime": {
     "end_time": "2020-03-10T04:04:48.576473Z",
     "start_time": "2020-03-10T04:04:48.559047Z"
    },
    "colab": {},
    "colab_type": "code",
    "id": "R7fK8AMMpghG"
   },
   "outputs": [],
   "source": [
    "from sklearn.model_selection import train_test_split\n",
    "\n",
    "#分离数据\n",
    "X_train, X_test, y_train, y_test = train_test_split(x,y,test_size=0.2)"
   ]
  },
  {
   "cell_type": "markdown",
   "metadata": {
    "colab_type": "text",
    "id": "fngGw_sZpghO"
   },
   "source": [
    "## 归一化/标准化(Normalization)"
   ]
  },
  {
   "cell_type": "markdown",
   "metadata": {
    "ExecuteTime": {
     "end_time": "2020-03-10T05:30:08.063812Z",
     "start_time": "2020-03-10T05:30:08.058848Z"
    },
    "colab_type": "text",
    "id": "7qJiZpimpghQ"
   },
   "source": [
    "### 原理"
   ]
  },
  {
   "cell_type": "markdown",
   "metadata": {
    "colab_type": "text",
    "id": "LWoUlGxUpghR"
   },
   "source": [
    "- 好处:\n",
    "    - 避免因为量纲问题导致被一个数据主导\n",
    "    - 都是一种线性变换，都是对向量X按照比例压缩再进行平移\n",
    "    - 加快收束\n",
    "    \n",
    "- 区别:\n",
    "    - 归一化(Normalization)是将样本的特征值转换到同一量纲下把数据映射到[0,1]或者[-1, 1]区间内，仅由变量的极值决定，因区间放缩法是归一化的一种。\n",
    "    - 标准化(Standardization)是依照特征矩阵的列处理数据，其通过求z-score的方法，转换为标准正态分布，和整体样本分布相关，每个样本点都能对标准化产生影响。  \n",
    "\n",
    "- 常用方法  \n",
    "    - 最值归一化:  \n",
    "    $$x_{\\text {scale}}=\\frac{x-x_{\\text {mean}}}{s}$$\n",
    "    - 均值方差归一化  \n",
    "    $$x_{\\text {scale}}=\\frac{x-x_{\\text {mean}}}{s}$$\n",
    "  \n",
    "- 步骤:\n",
    "    1. 先对训练数据进行归一化/标准化\n",
    "    2. 再拿训练数据的数学特征(平均数,标准差)对测试数据进行标准化\n",
    "    3. (x_test-mean_train)/std_train"
   ]
  },
  {
   "cell_type": "markdown",
   "metadata": {
    "colab_type": "text",
    "id": "1dkrZ_FppghS"
   },
   "source": [
    "- 没有进行标准化/归一化\n",
    "    - ![](https://raw.githubusercontent.com/LinCheungS/PicGo_Image_Storage/master/2020/20200423002739.png)\n",
    "- 进行了标准化/归一化\n",
    "    - ![](https://raw.githubusercontent.com/LinCheungS/PicGo_Image_Storage/master/2020/20200423002752.png)  \n"
   ]
  },
  {
   "cell_type": "markdown",
   "metadata": {
    "colab_type": "text",
    "id": "H1yHUgu1pghV"
   },
   "source": [
    "### Sklearn 例子"
   ]
  },
  {
   "cell_type": "code",
   "execution_count": 8,
   "metadata": {
    "ExecuteTime": {
     "end_time": "2020-03-10T05:53:18.238983Z",
     "start_time": "2020-03-10T05:53:18.231896Z"
    },
    "colab": {},
    "colab_type": "code",
    "id": "zNJg-1p7pghW"
   },
   "outputs": [
    {
     "data": {
      "text/plain": [
       "<matplotlib.collections.PathCollection at 0x11e6efda0>"
      ]
     },
     "execution_count": 8,
     "metadata": {},
     "output_type": "execute_result"
    },
    {
     "data": {
      "image/png": "[encoded data removed]",
      "text/plain": [
       "<Figure size 432x288 with 2 Axes>"
      ]
     },
     "metadata": {
      "needs_background": "light"
     },
     "output_type": "display_data"
    }
   ],
   "source": [
    "# 可视化\n",
    "from sklearn.preprocessing import StandardScaler\n",
    "from matplotlib import gridspec\n",
    "import numpy as np\n",
    "import matplotlib.pyplot as plt\n",
    "\n",
    "cps = np.random.randint(0, 100, (100, 2))\n",
    "ss = StandardScaler()\n",
    "std_cps = ss.fit_transform(cps)\n",
    " \n",
    "gs = gridspec.GridSpec(5,5)\n",
    "fig = plt.figure()\n",
    "ax1 = fig.add_subplot(gs[0:2, 1:4])\n",
    "ax2 = fig.add_subplot(gs[3:5, 1:4])\n",
    " \n",
    "ax1.scatter(cps[:, 0], cps[:, 1])\n",
    "ax2.scatter(std_cps[:, 0], std_cps[:, 1])"
   ]
  },
  {
   "cell_type": "code",
   "execution_count": 11,
   "metadata": {},
   "outputs": [],
   "source": [
    "# 步骤\n",
    "from sklearn.preprocessing import StandardScaler\n",
    "from sklearn.model_selection import train_test_split\n",
    "from sklearn import datasets\n",
    "\n",
    "# 加载数据\n",
    "iris = datasets.load_iris()\n",
    "X = iris.data\n",
    "y = iris.target\n",
    "# 分离数据\n",
    "x_train, x_test, y_train, y_test = train_test_split(x,y,test_size=0.2)\n",
    "# 加载标准化包\n",
    "# fit模型\n",
    "scaler = StandardScaler()\n",
    "scaler.fit(x_train)\n",
    "# 传出处理好的数据\n",
    "x_new_train = scaler.transform(x_train)\n",
    "x_new_test = scaler.transform(x_test)"
   ]
  },
  {
   "cell_type": "markdown",
   "metadata": {},
   "source": [
    "# 衡量指标(Metrics)"
   ]
  },
  {
   "cell_type": "markdown",
   "metadata": {},
   "source": [
    "## 公式"
   ]
  },
  {
   "cell_type": "markdown",
   "metadata": {
    "colab_type": "text",
    "id": "Pp9YwOrLs-qW"
   },
   "source": [
    "1. **均方误差MSE(mean squared error)**\n",
    "    - 解决由样本数量不同引起的问题,比如10个样本误差100,10000个样本误差200\n",
    "$$\n",
    "\\frac{1}{m} \\sum_{i=1}^{m}\\left(y_{i e s t}^{(i)}-\\hat{y}_{i e s t}^{(i)}\\right)^{2}\n",
    "$$\n",
    "\n",
    "2. **均方根误差RMSE(root mean squared error)**\n",
    "    - 解决量纲的问题,比如  $万^2$\n",
    "$$\n",
    "\\sqrt{\\frac{1}{m} \\sum_{i=1}^{m}\\left(y_{t e s t}^{(i)}-\\hat{y}_{t e s t}^{(i)}\\right)^{2}}=\\sqrt{M S E_{t e s t}}\n",
    "$$\n",
    "\n",
    "3. **平均绝对误差MAE(mean absolote error)**\n",
    "$$\n",
    "\\frac{1}{m} \\sum_{i=1}^{m}\\left|y_{t e s t}^{(i)}-\\hat{y}_{t e s t}^{(i)}\\right|\n",
    "$$\n",
    "\n",
    "4. **R_squared**\n",
    "    - 分子表示, 使用我们的模型预测产生的错误. \n",
    "    - 分母表示y-$y - \\bar y$产生的错误  \n",
    "$${R^2} = 1 - \\frac{{S{S_{{\\rm{residual}}}}}}{{S{S_{{\\rm{total}}}}}}\\begin{array}{*{20}{c}}\n",
    "{({\\rm{Residual Sum of Squares}})}\\\\\n",
    "{({\\rm{Toal Sumof Squares}})}\n",
    "\\end{array}$$  \n",
    "    - r方小于等于1\n",
    "    - 越大越好, 当等于1时, 模型不犯错误\n",
    "    - 当等于0时, 模型等同于基准模型 \n",
    "$${R^2} = 1 - \\frac{{\\sum\\limits_i {{{\\left( {{{\\hat y}^{(i)}} - {y^{(i)}}} \\right)}^2}} }}{{\\sum\\limits_i {{{\\left( {{{\\bar y}^\\prime } - {y^{(i)}}} \\right)}^2}} }}$$  \n",
    "$${{\\rm{R}}^{\\rm{2}}} = 1 - \\frac{{MSE(\\hat y,y)}}{{{\\mathop{\\rm Var}\\nolimits} (y)}}$$"
   ]
  },
  {
   "cell_type": "markdown",
   "metadata": {},
   "source": [
    "## 自我实现衡量指标"
   ]
  },
  {
   "cell_type": "code",
   "execution_count": 13,
   "metadata": {
    "ExecuteTime": {
     "end_time": "2020-03-11T01:37:49.481259Z",
     "start_time": "2020-03-11T01:37:49.435853Z"
    },
    "colab": {},
    "colab_type": "code",
    "id": "aZNz03TIs-rM"
   },
   "outputs": [],
   "source": [
    "import numpy as np\n",
    "from math import sqrt\n",
    "\n",
    "def accuracy_score(y_true, y_predict):\n",
    "    \"\"\"计算y_true和y_predict之间的准确率\"\"\"\n",
    "    assert len(y_true) == len(y_predict), \\\n",
    "        \"the size of y_true must be equal to the size of y_predict\"\n",
    "    return np.sum(y_true == y_predict) / len(y_true)\n",
    "\n",
    "\n",
    "def mean_squared_error(y_true, y_predict):\n",
    "    \"\"\"计算y_true和y_predict之间的MSE\"\"\"\n",
    "    assert len(y_true) == len(y_predict), \\\n",
    "        \"the size of y_true must be equal to the size of y_predict\"\n",
    "    return np.sum((y_true - y_predict)**2) / len(y_true)\n",
    "\n",
    "def root_mean_squared_error(y_true, y_predict):\n",
    "    \"\"\"计算y_true和y_predict之间的RMSE\"\"\"\n",
    "    return sqrt(mean_squared_error(y_true, y_predict))\n",
    "\n",
    "def mean_absolute_error(y_true, y_predict):\n",
    "    \"\"\"计算y_true和y_predict之间的RMSE\"\"\"\n",
    "    assert len(y_true) == len(y_predict), \\\n",
    "        \"the size of y_true must be equal to the size of y_predict\"\n",
    "    return np.sum(np.absolute(y_true - y_predict)) / len(y_true)\n",
    "\n",
    "def r2_score(y_true, y_predict):\n",
    "    \"\"\"计算y_true和y_predict之间的R Square\"\"\"\n",
    "    return 1 - mean_squared_error(y_true, y_predict)/np.var(y_true)"
   ]
  },
  {
   "cell_type": "markdown",
   "metadata": {
    "colab_type": "text",
    "id": "5Lx2DqQ3nPei"
   },
   "source": [
    "# 过拟合和欠拟合(Overfitting & Underfitting)"
   ]
  },
  {
   "cell_type": "markdown",
   "metadata": {
    "colab_type": "text",
    "id": "nGHypLswpsg5"
   },
   "source": [
    "## 原理"
   ]
  },
  {
   "cell_type": "markdown",
   "metadata": {
    "colab_type": "text",
    "id": "ohownacopxj9"
   },
   "source": [
    "- 过拟合，过多的表达测试数据(比如噪声)，会使图像尽一切可能拟合测试数据\n",
    "- 欠拟合，没有完全表达测试数据,预测准确不足\n",
    "- 机器学习主要解决过拟合\n",
    "- 可以使用交叉验证的方法防止过拟合  \n",
    "![2](https://tvax4.sinaimg.cn/large/a17dfad9gy1gd4fgsf7p9j20er0aqac8.jpg)\n",
    "![1](https://tva2.sinaimg.cn/large/a17dfad9gy1gd4flreyw5j20hz0ango1.jpg)"
   ]
  },
  {
   "cell_type": "markdown",
   "metadata": {
    "colab_type": "text",
    "id": "mmK2BnHtn3JG"
   },
   "source": [
    "## 过拟合的例子"
   ]
  },
  {
   "cell_type": "code",
   "execution_count": 15,
   "metadata": {
    "colab": {
     "base_uri": "https://localhost:8080/",
     "height": 282
    },
    "colab_type": "code",
    "id": "VkF-pgwpoPMm",
    "outputId": "6e97048f-d960-445d-b811-ba587dba1917"
   },
   "outputs": [
    {
     "name": "stdout",
     "output_type": "stream",
     "text": [
      "mean_squared_error0.6801646332792363\n"
     ]
    },
    {
     "data": {
      "image/png": "[encoded data removed]",
      "text/plain": [
       "<Figure size 432x288 with 1 Axes>"
      ]
     },
     "metadata": {
      "tags": []
     },
     "output_type": "display_data"
    }
   ],
   "source": [
    "from sklearn.pipeline import Pipeline\n",
    "from sklearn.preprocessing import PolynomialFeatures\n",
    "from sklearn.preprocessing import StandardScaler\n",
    "from sklearn.metrics import mean_squared_error\n",
    "\n",
    "np.random.seed(666)\n",
    "x = np.random.uniform(-3.0, 3.0, size=100)\n",
    "X = x.reshape(-1, 1)\n",
    "y = 0.5 * x**2 + x + 2 + np.random.normal(0, 1, size=100)\n",
    "\n",
    "def PolynomialRegression(degree):\n",
    "    return Pipeline([\n",
    "        (\"poly\", PolynomialFeatures(degree=degree)),\n",
    "        (\"std_scaler\", StandardScaler()),\n",
    "        (\"lin_reg\", LinearRegression())\n",
    "    ])\n",
    "# 最高幂为100的情况\n",
    "poly10_reg = PolynomialRegression(degree=100)\n",
    "poly10_reg.fit(X, y)\n",
    "# 得到预测数据集，打印MSE\n",
    "y10_predict = poly10_reg.predict(X)\n",
    "print(\"mean_squared_error\"+str(mean_squared_error(y, y10_predict)))\n",
    "#画图\n",
    "plt.scatter(x, y)\n",
    "plt.plot(np.sort(x), y10_predict[np.argsort(x)], color='r')\n",
    "plt.show()"
   ]
  },
  {
   "cell_type": "markdown",
   "metadata": {
    "colab_type": "text",
    "id": "Q-6Hc0l0o8k6"
   },
   "source": [
    "## 欠拟合的情况"
   ]
  },
  {
   "cell_type": "code",
   "execution_count": 16,
   "metadata": {
    "colab": {
     "base_uri": "https://localhost:8080/",
     "height": 283
    },
    "colab_type": "code",
    "id": "Tdomx5m3pOIF",
    "outputId": "0ebebe2d-a027-4574-ed52-e12ca395e1ed",
    "scrolled": false
   },
   "outputs": [
    {
     "name": "stdout",
     "output_type": "stream",
     "text": [
      "准确率0.4953707811865009\n"
     ]
    },
    {
     "data": {
      "image/png": "[encoded data removed]",
      "text/plain": [
       "<Figure size 432x288 with 1 Axes>"
      ]
     },
     "metadata": {
      "tags": []
     },
     "output_type": "display_data"
    }
   ],
   "source": [
    "import numpy as np\n",
    "from sklearn.linear_model import LinearRegression\n",
    "\n",
    "np.random.seed(666)\n",
    "x = np.random.uniform(-3.0, 3.0, size=100)\n",
    "X = x.reshape(-1, 1)\n",
    "y = 0.5 * x**2 + x + 2 + np.random.normal(0, 1, size=100)\n",
    "\n",
    "lin_reg = LinearRegression()\n",
    "lin_reg.fit(X, y)\n",
    "print(\"准确率\"+str(lin_reg.score(X, y)))\n",
    "\n",
    "y_predict = lin_reg.predict(X)\n",
    "plt.scatter(x, y)\n",
    "plt.plot(np.sort(x), y_predict[np.argsort(x)], color='r')\n",
    "plt.show()"
   ]
  },
  {
   "cell_type": "markdown",
   "metadata": {
    "colab_type": "text",
    "id": "o5Dnet2-pkUs"
   },
   "source": [
    "# 学习曲线(Learning Curve)"
   ]
  },
  {
   "cell_type": "markdown",
   "metadata": {
    "colab_type": "text",
    "id": "4jHTJyNdqQN-"
   },
   "source": [
    "## 原理"
   ]
  },
  {
   "cell_type": "markdown",
   "metadata": {
    "colab_type": "text",
    "id": "fBjy8c5GspHD"
   },
   "source": [
    "- 学习曲线表示，随着训练样本的增多，模型的表现能力\n",
    "- 图形的纵轴代表误差\n",
    "- 欠拟合, 训练和测试的误差都很大\n",
    "- 过拟合, 训练和测试的误差虽然小, 但是二者的差变大\n",
    "- 完美状态, 二者差距很小, 并且loss值很小\n",
    "![](https://raw.githubusercontent.com/LinCheungS/PicGo_Image_Storage/master/2020-1/20200423011447.jpg)  \n",
    "![](https://raw.githubusercontent.com/LinCheungS/PicGo_Image_Storage/master/2020-1/20200423011504.jpg)\n",
    "![](https://raw.githubusercontent.com/LinCheungS/PicGo_Image_Storage/master/2020-1/20200423011513.jpg)"
   ]
  },
  {
   "cell_type": "markdown",
   "metadata": {
    "colab_type": "text",
    "id": "Gu9LKgiluuPX"
   },
   "source": [
    "## Sklearn实现"
   ]
  },
  {
   "cell_type": "code",
   "execution_count": 15,
   "metadata": {
    "colab": {
     "base_uri": "https://localhost:8080/",
     "height": 769
    },
    "colab_type": "code",
    "id": "qNOBKgrBuxUs",
    "outputId": "48737924-e990-447c-8023-0c3d5d4433f4"
   },
   "outputs": [
    {
     "data": {
      "image/png": "[encoded data removed]",
      "text/plain": [
       "<Figure size 432x288 with 1 Axes>"
      ]
     },
     "metadata": {
      "needs_background": "light"
     },
     "output_type": "display_data"
    },
    {
     "data": {
      "image/png": "[encoded data removed]",
      "text/plain": [
       "<Figure size 432x288 with 1 Axes>"
      ]
     },
     "metadata": {
      "needs_background": "light"
     },
     "output_type": "display_data"
    }
   ],
   "source": [
    "import numpy as np\n",
    "import matplotlib.pyplot as plt\n",
    "from sklearn.model_selection import train_test_split\n",
    "from sklearn.preprocessing import PolynomialFeatures\n",
    "from sklearn.preprocessing import StandardScaler\n",
    "from sklearn.pipeline import Pipeline\n",
    "from sklearn.linear_model import LinearRegression\n",
    "from sklearn.metrics import mean_squared_error\n",
    "\n",
    "# 生成数据\n",
    "np.random.seed(666)\n",
    "x = np.random.uniform(-3.0, 3.0, size=100)\n",
    "X = x.reshape(-1, 1)\n",
    "y = 0.5 * x**2 + x + 2 + np.random.normal(0, 1, size=100)\n",
    "# 分离数据\n",
    "X_train, X_test, y_train, y_test = train_test_split(X, y, random_state=10)\n",
    "\n",
    "\n",
    "def plot_learning_curve(algo, X_train, X_test, y_train, y_test):\n",
    "    train_score = []\n",
    "    test_score = []\n",
    "    for i in range(1, len(X_train) + 1):\n",
    "        # 依次取1,1-2,1-3,1-4,1-5\n",
    "        algo.fit(X_train[:i], y_train[:i])\n",
    "        # 将数据加入train_score = []\n",
    "        y_train_predict = algo.predict(X_train[:i])\n",
    "        train_score.append(mean_squared_error(y_train[:i], y_train_predict))\n",
    "        # 将数据加入test_score = []\n",
    "        y_test_predict = algo.predict(X_test)\n",
    "        test_score.append(mean_squared_error(y_test, y_test_predict))\n",
    "    # 画图\n",
    "    plt.plot([i for i in range(1,\n",
    "                               len(X_train) + 1)],\n",
    "             np.sqrt(train_score),\n",
    "             label=\"train\")\n",
    "    plt.plot([i for i in range(1,\n",
    "                               len(X_train) + 1)],\n",
    "             np.sqrt(test_score),\n",
    "             label=\"test\")\n",
    "    plt.legend()\n",
    "    plt.axis([0, len(X_train) + 1, 0, 4])\n",
    "    plt.show()\n",
    "\n",
    "\n",
    "def PolynomialRegression(degree):\n",
    "    return Pipeline([(\"poly\", PolynomialFeatures(degree=degree)),\n",
    "                     (\"std_scaler\", StandardScaler()),\n",
    "                     (\"lin_reg\", LinearRegression())])\n",
    "\n",
    "\n",
    "# 画欠拟合\n",
    "plot_learning_curve(LinearRegression(), X_train, X_test, y_train, y_test)\n",
    "# 画过拟合\n",
    "poly20_reg = PolynomialRegression(degree=20)\n",
    "plot_learning_curve(poly20_reg, X_train, X_test, y_train, y_test)"
   ]
  },
  {
   "cell_type": "markdown",
   "metadata": {
    "colab_type": "text",
    "id": "Mlwj1UJOvbyp"
   },
   "source": [
    "# 交叉验证(Cross Validation)"
   ]
  },
  {
   "cell_type": "markdown",
   "metadata": {
    "colab_type": "text",
    "id": "G0QbbaH-vkuH"
   },
   "source": [
    "## 原理"
   ]
  },
  {
   "cell_type": "markdown",
   "metadata": {
    "colab_type": "text",
    "id": "9uDJmLuqvnze"
   },
   "source": [
    "- 不进行交叉验证会对测试数据进行过拟合\n",
    "- 将数据分为训练train，验证validation，测试test数据集\n",
    "- k-folds，把训练数据集(包括验证数据集)分成k分：慢了k倍\n",
    "- LOO-CV(留一法),将m个数据集分为m-1分：完全不受随机测试数据的影响：计算量巨大  \n",
    "  \n",
    "    1. 对于小规模样本集（几万量级），常用的分配比例是 60% 训练集、20% 验证集、20% 测试集。\n",
    "    2. 对于大规模样本集（百万级以上），只要验证集和测试集的数量足够即可，例如有 100w 条数据，那么留 1w 验证集，1w 测试集即可。1000w 的数据，同样留 1w 验证集和 1w 测试集。\n",
    "    3. 超参数越少，或者超参数很容易调整，那么可以减少验证集的比例，更多的分配给训练集。  \n",
    "\n",
    "![](https://raw.githubusercontent.com/LinCheungS/PicGo_Image_Storage/master/2020-1/20200423013358.png)\n",
    "![](https://raw.githubusercontent.com/LinCheungS/PicGo_Image_Storage/master/2020-1/20200423013418.png)\n",
    "![](https://raw.githubusercontent.com/LinCheungS/PicGo_Image_Storage/master/2020-1/20200423013430.png)\n",
    "![](https://raw.githubusercontent.com/LinCheungS/PicGo_Image_Storage/master/2020-1/20200423014358.png)\n",
    "![](https://raw.githubusercontent.com/LinCheungS/PicGo_Image_Storage/master/2020-1/20200423014412.png)\n",
    "![](https://raw.githubusercontent.com/LinCheungS/PicGo_Image_Storage/master/2020-1/20200423014422.png)"
   ]
  },
  {
   "cell_type": "markdown",
   "metadata": {
    "colab_type": "text",
    "id": "6tcWFTk7ye53"
   },
   "source": [
    "## 实现"
   ]
  },
  {
   "cell_type": "code",
   "execution_count": 16,
   "metadata": {
    "colab": {
     "base_uri": "https://localhost:8080/",
     "height": 67
    },
    "colab_type": "code",
    "id": "XO2jNnvnyhT-",
    "outputId": "6f928ad5-ef8e-4add-f90d-f18880b8e6ea"
   },
   "outputs": [
    {
     "name": "stdout",
     "output_type": "stream",
     "text": [
      "Best K = 3\n",
      "Best P = 4\n",
      "Best Score = 0.9860917941585535\n"
     ]
    }
   ],
   "source": [
    "import numpy as np\n",
    "from sklearn import datasets\n",
    "from sklearn.model_selection import train_test_split\n",
    "from sklearn.neighbors import KNeighborsClassifier\n",
    "\n",
    "#载入数据\n",
    "digits = datasets.load_digits()\n",
    "X = digits.data\n",
    "y = digits.target\n",
    "#不进行交叉验证\n",
    "X_train, X_test, y_train, y_test = train_test_split(X, y, test_size=0.4, random_state=666)\n",
    "best_k, best_p, best_score = 0, 0, 0\n",
    "for k in range(2, 11):\n",
    "    for p in range(1, 6):\n",
    "        knn_clf = KNeighborsClassifier(weights=\"distance\", n_neighbors=k, p=p)\n",
    "        knn_clf.fit(X_train, y_train)\n",
    "        score = knn_clf.score(X_test, y_test)\n",
    "        if score > best_score:\n",
    "            best_k, best_p, best_score = k, p, score        \n",
    "print(\"Best K =\", best_k)\n",
    "print(\"Best P =\", best_p)\n",
    "print(\"Best Score =\", best_score)"
   ]
  },
  {
   "cell_type": "code",
   "execution_count": 17,
   "metadata": {
    "colab": {
     "base_uri": "https://localhost:8080/",
     "height": 84
    },
    "colab_type": "code",
    "id": "nuqRnZudy7Ap",
    "outputId": "9548115b-bb6c-492e-9f10-34cb786a1eef"
   },
   "outputs": [
    {
     "name": "stdout",
     "output_type": "stream",
     "text": [
      "Best K = 2\n",
      "Best P = 2\n",
      "Best Score = 0.9851507321274763\n"
     ]
    },
    {
     "data": {
      "text/plain": [
       "0.980528511821975"
      ]
     },
     "execution_count": 17,
     "metadata": {},
     "output_type": "execute_result"
    }
   ],
   "source": [
    "#进行交叉验证\n",
    "from sklearn.model_selection import cross_val_score\n",
    "#载入knnClassifier\n",
    "knn_clf = KNeighborsClassifier()\n",
    "#对训练数据使用交叉验证，默认分为k=5组 cross_val_score(knn_clf, X_train, y_train, cv=5)\n",
    "cross_val_score(knn_clf, X_train, y_train)\n",
    "#使用for循环搜索\n",
    "best_k, best_p, best_score = 0, 0, 0\n",
    "for k in range(2, 11):\n",
    "    for p in range(1, 6):\n",
    "        knn_clf = KNeighborsClassifier(weights=\"distance\", n_neighbors=k, p=p)\n",
    "        scores = cross_val_score(knn_clf, X_train, y_train)\n",
    "        score = np.mean(scores)\n",
    "        if score > best_score:\n",
    "            best_k, best_p, best_score = k, p, score\n",
    "            \n",
    "print(\"Best K =\", best_k)\n",
    "print(\"Best P =\", best_p)\n",
    "print(\"Best Score =\", best_score)\n",
    "\n",
    "best_knn_clf = KNeighborsClassifier(weights=\"distance\", n_neighbors=2, p=2)\n",
    "best_knn_clf.fit(X_train, y_train)\n",
    "best_knn_clf.score(X_test, y_test)"
   ]
  },
  {
   "cell_type": "code",
   "execution_count": 18,
   "metadata": {
    "colab": {
     "base_uri": "https://localhost:8080/",
     "height": 118
    },
    "colab_type": "code",
    "id": "6lmMSRoH0D5o",
    "outputId": "96af08e2-b88b-440c-9b2d-1f02dd0bbc33"
   },
   "outputs": [
    {
     "name": "stdout",
     "output_type": "stream",
     "text": [
      "Fitting 5 folds for each of 45 candidates, totalling 225 fits\n"
     ]
    },
    {
     "name": "stderr",
     "output_type": "stream",
     "text": [
      "[Parallel(n_jobs=1)]: Using backend SequentialBackend with 1 concurrent workers.\n"
     ]
    },
    {
     "name": "stdout",
     "output_type": "stream",
     "text": [
      "grid_search.best_score_0.9851507321274763\n",
      "grid_search.best_params_{'n_neighbors': 2, 'p': 2, 'weights': 'distance'}\n",
      "best_knn_clf.score0.980528511821975\n"
     ]
    },
    {
     "name": "stderr",
     "output_type": "stream",
     "text": [
      "[Parallel(n_jobs=1)]: Done 225 out of 225 | elapsed:   26.9s finished\n"
     ]
    }
   ],
   "source": [
    "#网格搜索自带交叉验证\n",
    "from sklearn.model_selection import GridSearchCV\n",
    "\n",
    "param_grid = [{\n",
    "    'weights': ['distance'],\n",
    "    'n_neighbors': [i for i in range(2, 11)],\n",
    "    'p': [i for i in range(1, 6)]\n",
    "}]\n",
    "\n",
    "grid_search = GridSearchCV(knn_clf, param_grid, verbose=1,cv=5)\n",
    "grid_search.fit(X_train, y_train)\n",
    "\n",
    "print(\"grid_search.best_score_\" + str(grid_search.best_score_))\n",
    "print(\"grid_search.best_params_\" + str(grid_search.best_params_))\n",
    "best_knn_clf = grid_search.best_estimator_\n",
    "print(\"best_knn_clf.score\" + str(best_knn_clf.score(X_test, y_test)))"
   ]
  },
  {
   "cell_type": "markdown",
   "metadata": {
    "colab_type": "text",
    "id": "z41NPSet1Ylx"
   },
   "source": [
    "# 偏差和方差(bias-variance)"
   ]
  },
  {
   "cell_type": "markdown",
   "metadata": {},
   "source": [
    "## 解释"
   ]
  },
  {
   "cell_type": "markdown",
   "metadata": {
    "colab_type": "text",
    "id": "QnfE6AZ51Ysy"
   },
   "source": [
    "- 模型的误差 = 偏差 + 方差 + 误差(噪声)\n",
    "\n",
    "- 偏差\n",
    "  - 本身假设错误\n",
    "  - 非线性数据使用线性回归\n",
    "  - 欠拟合\n",
    "\n",
    "- 方差\n",
    "  - 使用的模型太过复杂\n",
    "  - 过拟合\n",
    "  - 天生高方差算法KNN\n",
    "\n",
    "- 降低偏差会提高方差，反之亦然\n",
    "\n",
    "- 机器学习挑战来自于方差\n",
    "\n",
    "- 解决方差的手段\n",
    "  1. 降低模型复杂度\n",
    "  2. 降维；降噪\n",
    "  3. 增加样本数\n",
    "  4. 使用验证数据集  \n",
    "  5. **模型的正则化**  \n",
    "\n",
    "![](https://raw.githubusercontent.com/LinCheungS/PicGo_Image_Storage/master/2020-1/20200423024403.png)"
   ]
  }
 ],
 "metadata": {
  "kernelspec": {
   "display_name": "Python 3",
   "language": "python",
   "name": "python3"
  },
  "language_info": {
   "codemirror_mode": {
    "name": "ipython",
    "version": 3
   },
   "file_extension": ".py",
   "mimetype": "text/x-python",
   "name": "python",
   "nbconvert_exporter": "python",
   "pygments_lexer": "ipython3",
   "version": "3.7.3"
  },
  "toc": {
   "base_numbering": 1,
   "nav_menu": {},
   "number_sections": true,
   "sideBar": true,
   "skip_h1_title": false,
   "title_cell": "Table of Contents",
   "title_sidebar": "Contents",
   "toc_cell": false,
   "toc_position": {
    "height": "calc(100% - 180px)",
    "left": "10px",
    "top": "150px",
    "width": "246.531px"
   },
   "toc_section_display": true,
   "toc_window_display": true
  },
  "varInspector": {
   "cols": {
    "lenName": 16,
    "lenType": 16,
    "lenVar": 40
   },
   "kernels_config": {
    "python": {
     "delete_cmd_postfix": "",
     "delete_cmd_prefix": "del ",
     "library": "var_list.py",
     "varRefreshCmd": "print(var_dic_list())"
    },
    "r": {
     "delete_cmd_postfix": ") ",
     "delete_cmd_prefix": "rm(",
     "library": "var_list.r",
     "varRefreshCmd": "cat(var_dic_list()) "
    }
   },
   "types_to_exclude": [
    "module",
    "function",
    "builtin_function_or_method",
    "instance",
    "_Feature"
   ],
   "window_display": false
  }
 },
 "nbformat": 4,
 "nbformat_minor": 4
}
