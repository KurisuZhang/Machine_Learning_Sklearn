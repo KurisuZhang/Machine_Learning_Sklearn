{
 "cells": [
  {
   "cell_type": "markdown",
   "metadata": {
    "colab_type": "text",
    "id": "L4jjV-JL6gkL"
   },
   "source": [
    "# 评价分类结果"
   ]
  },
  {
   "cell_type": "markdown",
   "metadata": {
    "colab_type": "text",
    "id": "4TnPbwbjTJBW"
   },
   "source": [
    "- 回归: R-square\n",
    "- 分类: 准确率 (skwed 数据存在问题)\n",
    "  - 100人中有1个患病\n",
    "  - 即使全部预测没有病,也有99%准确率\n",
    "![](https://raw.githubusercontent.com/LinCheungS/PicGo_Image_Storage/master/2020-1/20200423032440.png)"
   ]
  },
  {
   "cell_type": "markdown",
   "metadata": {
    "colab_type": "text",
    "id": "iOldG5_DT2l0"
   },
   "source": [
    "## 混淆矩阵 (Confusion Matrix)"
   ]
  },
  {
   "cell_type": "markdown",
   "metadata": {
    "colab_type": "text",
    "id": "_q0fkiPQZ8IG"
   },
   "source": [
    "### 原理"
   ]
  },
  {
   "cell_type": "markdown",
   "metadata": {
    "colab_type": "text",
    "id": "-m6WePJBUASr"
   },
   "source": [
    "- TP – True Positive：实际为男性，且判断为男性（正确）\n",
    "\n",
    "- FN – False Negative：实际为男性，但判断为女性（错误）\n",
    "\n",
    "- TN – True Negative：实际为女性，且判断为女性（正确）\n",
    "\n",
    "- FP – False Positive：实际为女性，但判断为男性（错误)\n",
    "![](https://raw.githubusercontent.com/LinCheungS/PicGo_Image_Storage/master/2020-1/20200423032546.png)\n",
    "![](https://raw.githubusercontent.com/LinCheungS/PicGo_Image_Storage/master/2020-1/20200423032554.png)\n",
    "![](https://raw.githubusercontent.com/LinCheungS/PicGo_Image_Storage/master/2020-1/20200423032606.png)\n",
    "![](https://raw.githubusercontent.com/LinCheungS/PicGo_Image_Storage/master/2020-1/20200423032852.png)"
   ]
  },
  {
   "cell_type": "markdown",
   "metadata": {
    "colab_type": "text",
    "id": "6m2GmiwrZ-BO"
   },
   "source": [
    "### 自我实现"
   ]
  },
  {
   "cell_type": "code",
   "execution_count": 1,
   "metadata": {
    "colab": {
     "base_uri": "https://localhost:8080/",
     "height": 34
    },
    "colab_type": "code",
    "id": "MBFABm_KcuUX",
    "outputId": "5880ac17-7db1-4c61-c513-48c28ad00d9b"
   },
   "outputs": [
    {
     "data": {
      "text/plain": [
       "0.9822222222222222"
      ]
     },
     "execution_count": 1,
     "metadata": {},
     "output_type": "execute_result"
    }
   ],
   "source": [
    "import numpy as np\n",
    "from sklearn import datasets\n",
    "from sklearn.model_selection import train_test_split\n",
    "from sklearn.linear_model import LogisticRegression\n",
    "from sklearn.preprocessing import StandardScaler\n",
    "#加载数据\n",
    "digits = datasets.load_digits()\n",
    "X = digits.data\n",
    "y = digits.target.copy()\n",
    "y[digits.target == 9] = 1\n",
    "y[digits.target != 9] = 0\n",
    "# 数据归一化\n",
    "X_train, X_test, y_train, y_test = train_test_split(X, y, random_state=666)\n",
    "standerscaler = StandardScaler()\n",
    "standerscaler.fit(X_train)\n",
    "X_train = standerscaler.transform(X_train)\n",
    "X_test = standerscaler.transform(X_test)\n",
    "# 逻辑回归训练数据\n",
    "log_reg = LogisticRegression()\n",
    "log_reg.fit(X_train, y_train)\n",
    "log_reg.score(X_test, y_test)"
   ]
  },
  {
   "cell_type": "code",
   "execution_count": 2,
   "metadata": {
    "colab": {
     "base_uri": "https://localhost:8080/",
     "height": 50
    },
    "colab_type": "code",
    "id": "7jcQ-l_ljcpg",
    "outputId": "15145ed4-bdaa-4cb5-91c2-a932b97d47c2"
   },
   "outputs": [
    {
     "data": {
      "text/plain": [
       "array([[404,   1],\n",
       "       [  7,  38]])"
      ]
     },
     "execution_count": 2,
     "metadata": {},
     "output_type": "execute_result"
    }
   ],
   "source": [
    "y_log_predict = log_reg.predict(X_test)\n",
    "\n",
    "\n",
    "def TN(y_true, y_predict):\n",
    "    assert len(y_true) == len(y_predict)\n",
    "    return np.sum((y_true == 0) & (y_predict == 0))\n",
    "\n",
    "\n",
    "def FP(y_true, y_predict):\n",
    "    assert len(y_true) == len(y_predict)\n",
    "    return np.sum((y_true == 0) & (y_predict == 1))\n",
    "\n",
    "\n",
    "def FN(y_true, y_predict):\n",
    "    assert len(y_true) == len(y_predict)\n",
    "    return np.sum((y_true == 1) & (y_predict == 0))\n",
    "\n",
    "\n",
    "def TP(y_true, y_predict):\n",
    "    assert len(y_true) == len(y_predict)\n",
    "    return np.sum((y_true == 1) & (y_predict == 1))\n",
    "\n",
    "\n",
    "def confusion_matrix(y_true, y_predict):\n",
    "    return np.array([[TN(y_true, y_predict),\n",
    "                      FP(y_true, y_predict)],\n",
    "                     [FN(y_true, y_predict),\n",
    "                      TP(y_true, y_predict)]])\n",
    "\n",
    "\n",
    "confusion_matrix(y_test, y_log_predict)"
   ]
  },
  {
   "cell_type": "markdown",
   "metadata": {
    "colab_type": "text",
    "id": "wukAePBkj6tL"
   },
   "source": [
    "### sklearn混淆矩阵(二分类)"
   ]
  },
  {
   "cell_type": "code",
   "execution_count": 3,
   "metadata": {
    "colab": {
     "base_uri": "https://localhost:8080/",
     "height": 50
    },
    "colab_type": "code",
    "id": "S4yh3gPrkALU",
    "outputId": "06230784-e5bd-44ac-d87a-878c9e7dbcd8"
   },
   "outputs": [
    {
     "data": {
      "text/plain": [
       "array([[404,   1],\n",
       "       [  7,  38]])"
      ]
     },
     "execution_count": 3,
     "metadata": {},
     "output_type": "execute_result"
    }
   ],
   "source": [
    "from sklearn.metrics import confusion_matrix\n",
    "\n",
    "confusion_matrix(y_test, y_log_predict)"
   ]
  },
  {
   "cell_type": "markdown",
   "metadata": {
    "colab_type": "text",
    "id": "StyiKga4YXz9"
   },
   "source": [
    "### sklearn混淆矩阵(多分类)"
   ]
  },
  {
   "cell_type": "code",
   "execution_count": 4,
   "metadata": {
    "colab": {},
    "colab_type": "code",
    "id": "5ExWBNMZYbSU"
   },
   "outputs": [],
   "source": [
    "# 加载数据\n",
    "import numpy as np\n",
    "import matplotlib.pyplot as plt\n",
    "from sklearn import datasets\n",
    "from sklearn.preprocessing import StandardScaler\n",
    "from sklearn.model_selection import train_test_split\n",
    "from sklearn.linear_model import LogisticRegression\n",
    "\n",
    "digits = datasets.load_digits()\n",
    "X = digits.data\n",
    "y = digits.target\n",
    "X_train, X_test, y_train, y_test_multi = train_test_split(X,\n",
    "                                                          y,\n",
    "                                                          test_size=0.8,\n",
    "                                                          random_state=666)\n",
    "\n",
    "standerscaler = StandardScaler()\n",
    "standerscaler.fit(X_train)\n",
    "X_train = standerscaler.transform(X_train)\n",
    "X_test = standerscaler.transform(X_test)\n",
    "\n",
    "log_reg = LogisticRegression()\n",
    "log_reg.fit(X_train, y_train)\n",
    "log_reg.score(X_test, y_test_multi)\n",
    "y_predict_multi = log_reg.predict(X_test)"
   ]
  },
  {
   "cell_type": "code",
   "execution_count": 5,
   "metadata": {
    "colab": {
     "base_uri": "https://localhost:8080/",
     "height": 185
    },
    "colab_type": "code",
    "id": "OLOn3bdUYuYB",
    "outputId": "3701f446-cdf1-414b-c501-63f5e30c95b7"
   },
   "outputs": [
    {
     "data": {
      "text/plain": [
       "array([[148,   0,   1,   0,   0,   0,   0,   0,   0,   0],\n",
       "       [  0, 127,   2,   0,   1,   0,   0,   0,   0,  13],\n",
       "       [  0,   1, 133,   1,   0,   0,   0,   0,   1,   0],\n",
       "       [  0,   0,   1, 138,   0,   3,   0,   2,   5,   0],\n",
       "       [  0,   3,   0,   0, 142,   0,   0,   4,   0,   1],\n",
       "       [  0,   1,   1,   1,   0, 146,   1,   0,   0,   2],\n",
       "       [  1,   1,   0,   0,   0,   1, 133,   0,   0,   0],\n",
       "       [  0,   0,   0,   0,   0,   0,   0, 135,   0,   1],\n",
       "       [  0,   7,   1,   2,   3,   1,   0,   2, 122,   2],\n",
       "       [  0,   1,   0,   6,   0,   1,   0,   1,   1, 137]])"
      ]
     },
     "execution_count": 5,
     "metadata": {},
     "output_type": "execute_result"
    }
   ],
   "source": [
    "from sklearn.metrics import confusion_matrix\n",
    "\n",
    "confusion_matrix(y_test_multi, y_predict_multi)"
   ]
  },
  {
   "cell_type": "markdown",
   "metadata": {
    "colab_type": "text",
    "id": "IDp9C5FEYuy8"
   },
   "source": [
    "### 可视化混淆矩阵"
   ]
  },
  {
   "cell_type": "code",
   "execution_count": 6,
   "metadata": {
    "colab": {
     "base_uri": "https://localhost:8080/",
     "height": 275
    },
    "colab_type": "code",
    "id": "Bf0R8WYvYzt2",
    "outputId": "e4b78258-1011-4bd7-c30d-cb81d938c0a2"
   },
   "outputs": [
    {
     "data": {
      "image/png": "[encoded data removed]",
      "text/plain": [
       "<Figure size 288x288 with 1 Axes>"
      ]
     },
     "metadata": {
      "needs_background": "light"
     },
     "output_type": "display_data"
    }
   ],
   "source": [
    "cfm = confusion_matrix(y_test_multi, y_predict_multi)\n",
    "plt.matshow(cfm, cmap=plt.cm.gray)\n",
    "plt.show()"
   ]
  },
  {
   "cell_type": "code",
   "execution_count": 7,
   "metadata": {
    "colab": {
     "base_uri": "https://localhost:8080/",
     "height": 275
    },
    "colab_type": "code",
    "id": "1qlTrKhfZzme",
    "outputId": "e9927570-c4c5-4163-adb7-28713e8e002e"
   },
   "outputs": [
    {
     "data": {
      "image/png": "[encoded data removed]",
      "text/plain": [
       "<Figure size 288x288 with 1 Axes>"
      ]
     },
     "metadata": {
      "needs_background": "light"
     },
     "output_type": "display_data"
    }
   ],
   "source": [
    "row_sums = np.sum(cfm, axis=1)\n",
    "err_matrix = cfm / row_sums\n",
    "np.fill_diagonal(err_matrix, 0)\n",
    "\n",
    "plt.matshow(err_matrix, cmap=plt.cm.gray)\n",
    "plt.show()"
   ]
  },
  {
   "cell_type": "markdown",
   "metadata": {
    "colab_type": "text",
    "id": "IlxV4fDfVfbn"
   },
   "source": [
    "## 精准率和召回率(Precision&Recall)"
   ]
  },
  {
   "cell_type": "markdown",
   "metadata": {
    "colab_type": "text",
    "id": "UAeT-FD1juxS"
   },
   "source": [
    "### 原理"
   ]
  },
  {
   "cell_type": "markdown",
   "metadata": {
    "colab_type": "text",
    "id": "fhhM81y2Vw7V"
   },
   "source": [
    "- 精准率\n",
    "$$Precision = \\frac{{TP}}{{TP + FP}}$$\n",
    "  - 例子解释,每做m次患病预测,成功率是多少\n",
    "  - 可应用于股票,不保证预测出所有为1的值,但保证预测出来为1的数据尽肯能正确\n",
    "- 召回率\n",
    "$${\\mathop{\\rm Re}\\nolimits} call = \\frac{{TP}}{{TP + FN}}$$\n",
    "  - 例子解释,真实为1的数据,我们成功预测出了多少\n",
    "  - 可用于医疗,保证尽可能多的预测出为1的值,但不保证存在很多错误判断成1的值\n",
    "![](https://raw.githubusercontent.com/LinCheungS/PicGo_Image_Storage/master/2020-1/20200423033227.png)\n",
    "![](https://raw.githubusercontent.com/LinCheungS/PicGo_Image_Storage/master/2020-1/20200423033237.png)\n",
    "![](https://raw.githubusercontent.com/LinCheungS/PicGo_Image_Storage/master/2020-1/20200423033245.png)"
   ]
  },
  {
   "cell_type": "markdown",
   "metadata": {
    "colab_type": "text",
    "id": "-3hGG-npjxBH"
   },
   "source": [
    "### 自我实现"
   ]
  },
  {
   "cell_type": "code",
   "execution_count": 8,
   "metadata": {
    "colab": {
     "base_uri": "https://localhost:8080/",
     "height": 34
    },
    "colab_type": "code",
    "id": "83f63W2HZ5Yb",
    "outputId": "d5e42c4d-7f32-4ed0-fde5-4d01627ff4bc"
   },
   "outputs": [
    {
     "data": {
      "text/plain": [
       "0.9743589743589743"
      ]
     },
     "execution_count": 8,
     "metadata": {},
     "output_type": "execute_result"
    }
   ],
   "source": [
    "def precision_score(y_true, y_predict):\n",
    "    tp = TP(y_true, y_predict)\n",
    "    fp = FP(y_true, y_predict)\n",
    "    try:\n",
    "        return tp / (tp + fp)\n",
    "    except:\n",
    "        return 0.0\n",
    "\n",
    "\n",
    "precision_score(y_test, y_log_predict)"
   ]
  },
  {
   "cell_type": "code",
   "execution_count": 9,
   "metadata": {
    "colab": {
     "base_uri": "https://localhost:8080/",
     "height": 34
    },
    "colab_type": "code",
    "id": "lEIkROunj1jz",
    "outputId": "b094f387-63af-4213-cc54-c8ed5b3651cb"
   },
   "outputs": [
    {
     "data": {
      "text/plain": [
       "0.8444444444444444"
      ]
     },
     "execution_count": 9,
     "metadata": {},
     "output_type": "execute_result"
    }
   ],
   "source": [
    "def recall_score(y_true, y_predict):\n",
    "    tp = TP(y_true, y_predict)\n",
    "    fn = FN(y_true, y_predict)\n",
    "    try:\n",
    "        return tp / (tp + fn)\n",
    "    except:\n",
    "        return 0.0\n",
    "\n",
    "\n",
    "recall_score(y_test, y_log_predict)"
   ]
  },
  {
   "cell_type": "markdown",
   "metadata": {
    "colab_type": "text",
    "id": "w2aglcQokwH2"
   },
   "source": [
    "### sklearn中的实现(二分类)"
   ]
  },
  {
   "cell_type": "code",
   "execution_count": 10,
   "metadata": {
    "colab": {
     "base_uri": "https://localhost:8080/",
     "height": 34
    },
    "colab_type": "code",
    "id": "IY5JzZe_j3xv",
    "outputId": "d5b0345f-7fc6-4c31-beb7-82303468c4ca"
   },
   "outputs": [
    {
     "data": {
      "text/plain": [
       "0.9743589743589743"
      ]
     },
     "execution_count": 10,
     "metadata": {},
     "output_type": "execute_result"
    }
   ],
   "source": [
    "from sklearn.metrics import precision_score\n",
    "\n",
    "precision_score(y_test, y_log_predict)"
   ]
  },
  {
   "cell_type": "code",
   "execution_count": 11,
   "metadata": {
    "colab": {
     "base_uri": "https://localhost:8080/",
     "height": 34
    },
    "colab_type": "code",
    "id": "xgjShIEfkz2e",
    "outputId": "1953134f-a237-4444-e789-5d92e015ba44"
   },
   "outputs": [
    {
     "data": {
      "text/plain": [
       "0.8444444444444444"
      ]
     },
     "execution_count": 11,
     "metadata": {},
     "output_type": "execute_result"
    }
   ],
   "source": [
    "from sklearn.metrics import recall_score\n",
    "\n",
    "recall_score(y_test, y_log_predict)"
   ]
  },
  {
   "cell_type": "markdown",
   "metadata": {
    "colab_type": "text",
    "id": "J4lJ2BgIZ841"
   },
   "source": [
    "### sklearn中的实现(多分类)"
   ]
  },
  {
   "cell_type": "code",
   "execution_count": 12,
   "metadata": {
    "colab": {
     "base_uri": "https://localhost:8080/",
     "height": 34
    },
    "colab_type": "code",
    "id": "WgWjfUFFaFBq",
    "outputId": "b392d5f2-0722-468a-bdde-9627c104c40e"
   },
   "outputs": [
    {
     "data": {
      "text/plain": [
       "0.9464534075104312"
      ]
     },
     "execution_count": 12,
     "metadata": {},
     "output_type": "execute_result"
    }
   ],
   "source": [
    "from sklearn.metrics import precision_score\n",
    "\n",
    "precision_score(y_test_multi, y_predict_multi, average=\"micro\")"
   ]
  },
  {
   "cell_type": "code",
   "execution_count": 13,
   "metadata": {
    "colab": {
     "base_uri": "https://localhost:8080/",
     "height": 34
    },
    "colab_type": "code",
    "id": "A2fej4KqaNf5",
    "outputId": "cfc27350-dbc6-41ad-e123-c83d521445eb"
   },
   "outputs": [
    {
     "data": {
      "text/plain": [
       "0.9464534075104312"
      ]
     },
     "execution_count": 13,
     "metadata": {},
     "output_type": "execute_result"
    }
   ],
   "source": [
    "from sklearn.metrics import recall_score\n",
    "\n",
    "recall_score(y_test_multi, y_predict_multi,average=\"micro\")"
   ]
  },
  {
   "cell_type": "markdown",
   "metadata": {
    "colab_type": "text",
    "id": "0MSybg7OrAlB"
   },
   "source": [
    "## Precision-Recall 曲线"
   ]
  },
  {
   "cell_type": "markdown",
   "metadata": {
    "colab_type": "text",
    "id": "iQNeIQ6qrFUD"
   },
   "source": [
    "- 精确率（Precision）和召回率（Recall）之间的关系用图来表达\n",
    "- 他们俩的关系是「两难全」的关系。\n",
    "![](https://raw.githubusercontent.com/LinCheungS/PicGo_Image_Storage/master/2020-1/20200423033813.png)"
   ]
  },
  {
   "cell_type": "markdown",
   "metadata": {
    "colab_type": "text",
    "id": "wKiOUnm_qwmS"
   },
   "source": [
    "### sklearn中的调用"
   ]
  },
  {
   "cell_type": "markdown",
   "metadata": {
    "colab_type": "text",
    "id": "-PeYV-qArNoT"
   },
   "source": [
    "- 急速开始下降时,模型变坏\n"
   ]
  },
  {
   "cell_type": "code",
   "execution_count": 18,
   "metadata": {
    "colab": {
     "base_uri": "https://localhost:8080/",
     "height": 315
    },
    "colab_type": "code",
    "id": "K8LexxHirk9c",
    "outputId": "68ef9d22-3bcb-48be-eb97-a576e529c01b",
    "scrolled": true
   },
   "outputs": [
    {
     "name": "stdout",
     "output_type": "stream",
     "text": [
      "(150,)\n",
      "(150,)\n",
      "(149,)\n"
     ]
    },
    {
     "data": {
      "image/png": "[encoded data removed]",
      "text/plain": [
       "<Figure size 432x288 with 1 Axes>"
      ]
     },
     "metadata": {
      "needs_background": "light"
     },
     "output_type": "display_data"
    }
   ],
   "source": [
    "import numpy as np\n",
    "import matplotlib.pyplot as plt\n",
    "from sklearn.metrics import f1_score\n",
    "from sklearn import datasets\n",
    "from sklearn.linear_model import LogisticRegression\n",
    "from sklearn.model_selection import train_test_split\n",
    "from sklearn.preprocessing import StandardScaler\n",
    "#加载数据\n",
    "digits = datasets.load_digits()\n",
    "X = digits.data\n",
    "y = digits.target.copy()\n",
    "y[digits.target==9] = 1\n",
    "y[digits.target!=9] = 0\n",
    "# 数据归一化\n",
    "X_train, X_test, y_train, y_test = train_test_split(X, y, random_state=666)\n",
    "standerscaler = StandardScaler()\n",
    "standerscaler.fit(X_train)\n",
    "X_train = standerscaler.transform(X_train)\n",
    "X_test = standerscaler.transform(X_test)\n",
    "log_reg = LogisticRegression()\n",
    "log_reg.fit(X_train, y_train)\n",
    "\n",
    "# PR曲线\n",
    "from sklearn.metrics import precision_recall_curve\n",
    "\n",
    "decision_scores = log_reg.decision_function(X_test)\n",
    "precisions, recalls, thresholds = precision_recall_curve(\n",
    "    y_test, decision_scores)\n",
    "print(precisions.shape)\n",
    "print(recalls.shape)\n",
    "print(thresholds.shape)\n",
    "plt.plot(precisions, recalls)\n",
    "plt.show()"
   ]
  },
  {
   "cell_type": "markdown",
   "metadata": {
    "colab_type": "text",
    "id": "xar3_KzMl6q8"
   },
   "source": [
    "## F1 score"
   ]
  },
  {
   "cell_type": "markdown",
   "metadata": {
    "colab_type": "text",
    "id": "0m4EQalEl9Oa"
   },
   "source": [
    "- PR曲线之间找一个平衡点，就出现了一个 F1分数\n",
    "- 精准率和召回率的调和平均值\n",
    "- 调和平均可以惩罚极端情况。一个具有 1.0 的精度，而召回率为 0 的分类器，这两个指标的算术平均是 0.5，但是 F1 score 会是 0\n",
    "- 调和平均值,如果有一项特别高或者特别低,最终值也会低\n",
    "  - 原式\n",
    "$$\\frac{1}{{F1}} = \\frac{1}{2}\\left( {\\frac{1}{{\\Pr ecision}} + \\frac{1}{{{\\mathop{\\rm Re}\\nolimits} call}}} \\right)$$\n",
    "  - 化简\n",
    "$$F1 = \\frac{{2 \\cdot \\Pr ecision \\cdot {\\mathop{\\rm Re}\\nolimits} call}}{{\\Pr ecision + {\\mathop{\\rm Re}\\nolimits} call}}$$  "
   ]
  },
  {
   "cell_type": "markdown",
   "metadata": {
    "colab_type": "text",
    "id": "o1jlQ2FOnZ16"
   },
   "source": [
    "### 自我实现"
   ]
  },
  {
   "cell_type": "code",
   "execution_count": 19,
   "metadata": {
    "colab": {},
    "colab_type": "code",
    "id": "_BYajzhwnbmq"
   },
   "outputs": [],
   "source": [
    "import numpy as np\n",
    "\n",
    "def f1_score(precision, recall):\n",
    "    try:\n",
    "        return 2 * precision * recall / (precision + recall)\n",
    "    except:\n",
    "        return 0.0"
   ]
  },
  {
   "cell_type": "code",
   "execution_count": 20,
   "metadata": {
    "colab": {
     "base_uri": "https://localhost:8080/",
     "height": 34
    },
    "colab_type": "code",
    "id": "Qt4WEAVZnm8h",
    "outputId": "55b4330d-4269-4f33-c68e-63707893c4bc"
   },
   "outputs": [
    {
     "data": {
      "text/plain": [
       "0.5"
      ]
     },
     "execution_count": 20,
     "metadata": {},
     "output_type": "execute_result"
    }
   ],
   "source": [
    "precision = 0.5\n",
    "recall = 0.5\n",
    "f1_score(precision, recall)"
   ]
  },
  {
   "cell_type": "code",
   "execution_count": 21,
   "metadata": {
    "colab": {
     "base_uri": "https://localhost:8080/",
     "height": 34
    },
    "colab_type": "code",
    "id": "DgyKkU3WnobR",
    "outputId": "976fd49a-4192-43df-e617-bf94d822c132"
   },
   "outputs": [
    {
     "data": {
      "text/plain": [
       "0.18000000000000002"
      ]
     },
     "execution_count": 21,
     "metadata": {},
     "output_type": "execute_result"
    }
   ],
   "source": [
    "precision = 0.1\n",
    "recall = 0.9\n",
    "f1_score(precision, recall)"
   ]
  },
  {
   "cell_type": "markdown",
   "metadata": {
    "colab_type": "text",
    "id": "vHbtheJ9k1pU"
   },
   "source": [
    "### sklearn中的实现(二分类)"
   ]
  },
  {
   "cell_type": "code",
   "execution_count": 22,
   "metadata": {
    "colab": {
     "base_uri": "https://localhost:8080/",
     "height": 34
    },
    "colab_type": "code",
    "id": "C64MwJrenNjN",
    "outputId": "41115f6f-8ae5-4aa0-fd3b-472afe97cdf0"
   },
   "outputs": [
    {
     "data": {
      "text/plain": [
       "0.9047619047619048"
      ]
     },
     "execution_count": 22,
     "metadata": {},
     "output_type": "execute_result"
    }
   ],
   "source": [
    "from sklearn.metrics import f1_score\n",
    "\n",
    "f1_score(y_test, y_log_predict)"
   ]
  },
  {
   "cell_type": "markdown",
   "metadata": {
    "colab_type": "text",
    "id": "l0yZq4WKbkA9"
   },
   "source": [
    "### sklearn中的实现(多分类)"
   ]
  },
  {
   "cell_type": "code",
   "execution_count": 23,
   "metadata": {
    "colab": {
     "base_uri": "https://localhost:8080/",
     "height": 34
    },
    "colab_type": "code",
    "id": "o8CtPctDbo4e",
    "outputId": "a9cbdd58-2313-4b3f-c389-25a210c0053c"
   },
   "outputs": [
    {
     "data": {
      "text/plain": [
       "0.9464534075104312"
      ]
     },
     "execution_count": 23,
     "metadata": {},
     "output_type": "execute_result"
    }
   ],
   "source": [
    "from sklearn.metrics import f1_score\n",
    "\n",
    "f1_score(y_test_multi, y_predict_multi,average=\"micro\")"
   ]
  },
  {
   "cell_type": "markdown",
   "metadata": {
    "colab_type": "text",
    "id": "4JJyXmW1nOXl"
   },
   "source": [
    "## 阈值(Threshod)"
   ]
  },
  {
   "cell_type": "markdown",
   "metadata": {
    "colab_type": "text",
    "id": "rqWbMZ3OoL3X"
   },
   "source": [
    "- 原决策边界\n",
    "$${\\theta ^T} \\cdot {x_b} = 0$$\n",
    "- 加入 threshold 的决策边界\n",
    "$${\\theta ^T} \\cdot {x_b} = Threshold$$  \n",
    "- 加入threshold,可以主动调整决策边界,从而调整精准率和召回率\n",
    "![1](https://tvax4.sinaimg.cn/large/a17dfad9gy1gdez0xrlntj20g506ijs5.jpg)"
   ]
  },
  {
   "cell_type": "markdown",
   "metadata": {
    "colab_type": "text",
    "id": "kxSC8hAkpJpS"
   },
   "source": [
    "### threshold演示"
   ]
  },
  {
   "cell_type": "code",
   "execution_count": 24,
   "metadata": {
    "colab": {
     "base_uri": "https://localhost:8080/",
     "height": 34
    },
    "colab_type": "code",
    "id": "2HATPed9pRlz",
    "outputId": "4cd663f5-84f7-4a36-bb8e-b6d85d5b8236"
   },
   "outputs": [
    {
     "data": {
      "text/plain": [
       "0.9047619047619048"
      ]
     },
     "execution_count": 24,
     "metadata": {},
     "output_type": "execute_result"
    }
   ],
   "source": [
    "import numpy as np\n",
    "import matplotlib.pyplot as plt\n",
    "from sklearn.metrics import f1_score\n",
    "from sklearn import datasets\n",
    "from sklearn.linear_model import LogisticRegression\n",
    "from sklearn.model_selection import train_test_split\n",
    "from sklearn.preprocessing import StandardScaler\n",
    "#加载数据\n",
    "digits = datasets.load_digits()\n",
    "X = digits.data\n",
    "y = digits.target.copy()\n",
    "y[digits.target==9] = 1\n",
    "y[digits.target!=9] = 0\n",
    "# 数据归一化\n",
    "X_train, X_test, y_train, y_test = train_test_split(X, y, random_state=666)\n",
    "standerscaler = StandardScaler()\n",
    "standerscaler.fit(X_train)\n",
    "X_train = standerscaler.transform(X_train)\n",
    "X_test = standerscaler.transform(X_test)\n",
    "log_reg = LogisticRegression()\n",
    "log_reg.fit(X_train, y_train)\n",
    "y_predict = log_reg.predict(X_test)\n",
    "# F1\n",
    "f1_score(y_test, y_predict)"
   ]
  },
  {
   "cell_type": "code",
   "execution_count": 25,
   "metadata": {
    "colab": {
     "base_uri": "https://localhost:8080/",
     "height": 50
    },
    "colab_type": "code",
    "id": "i0_xduFSpjG2",
    "outputId": "4950735d-a9ed-4a45-a840-0fec873adbee"
   },
   "outputs": [
    {
     "data": {
      "text/plain": [
       "array([ -9.24275126, -10.24462673,  -7.66462778, -29.19944838,\n",
       "       -17.54760817])"
      ]
     },
     "execution_count": 25,
     "metadata": {},
     "output_type": "execute_result"
    }
   ],
   "source": [
    "# 代表sigmod后的值,也是最终判断指标\n",
    "# 通过LogisticRegression下的decision_function获得\n",
    "decision_scores = log_reg.decision_function(X_test)\n",
    "decision_scores[:5]"
   ]
  },
  {
   "cell_type": "code",
   "execution_count": 26,
   "metadata": {
    "colab": {
     "base_uri": "https://localhost:8080/",
     "height": 50
    },
    "colab_type": "code",
    "id": "EYAZFbQ5p4UO",
    "outputId": "62927bba-9e6d-4364-998c-ffaf47589598"
   },
   "outputs": [
    {
     "name": "stdout",
     "output_type": "stream",
     "text": [
      "-29.199448384400096\n",
      "8.5075249340682\n"
     ]
    }
   ],
   "source": [
    "print(np.min(decision_scores))\n",
    "print(np.max(decision_scores))"
   ]
  },
  {
   "cell_type": "code",
   "execution_count": 27,
   "metadata": {
    "colab": {
     "base_uri": "https://localhost:8080/",
     "height": 84
    },
    "colab_type": "code",
    "id": "UoW97ZzlqYa5",
    "outputId": "f278e5c8-69d0-4051-aa82-04af658bb780"
   },
   "outputs": [
    {
     "name": "stdout",
     "output_type": "stream",
     "text": [
      "[[405   0]\n",
      " [ 37   8]]\n",
      "1.0\n",
      "0.17777777777777778\n"
     ]
    }
   ],
   "source": [
    "# threshold=5\n",
    "y_predict_2 = np.array(decision_scores >= 5, dtype='int')\n",
    "print(confusion_matrix(y_test, y_predict_2))\n",
    "print(precision_score(y_test, y_predict_2))\n",
    "print(recall_score(y_test, y_predict_2))"
   ]
  },
  {
   "cell_type": "code",
   "execution_count": 28,
   "metadata": {
    "colab": {
     "base_uri": "https://localhost:8080/",
     "height": 84
    },
    "colab_type": "code",
    "id": "PL655D1YqtNS",
    "outputId": "94cecebd-12f9-4718-be62-8a7abc5418c1"
   },
   "outputs": [
    {
     "name": "stdout",
     "output_type": "stream",
     "text": [
      "[[348  57]\n",
      " [  1  44]]\n",
      "0.43564356435643564\n",
      "0.9777777777777777\n"
     ]
    }
   ],
   "source": [
    "# threshold=-5\n",
    "y_predict_2 = np.array(decision_scores >= -5, dtype='int')\n",
    "print(confusion_matrix(y_test, y_predict_2))\n",
    "print(precision_score(y_test, y_predict_2))\n",
    "print(recall_score(y_test, y_predict_2))"
   ]
  },
  {
   "cell_type": "markdown",
   "metadata": {
    "colab_type": "text",
    "id": "tU_3uxEfr0UT"
   },
   "source": [
    "### sklearn根据图选取theshold"
   ]
  },
  {
   "cell_type": "code",
   "execution_count": 0,
   "metadata": {
    "colab": {
     "base_uri": "https://localhost:8080/",
     "height": 315
    },
    "colab_type": "code",
    "id": "9rSS052Nr6bV",
    "outputId": "eb9069d3-b527-4020-a065-103f9674048f"
   },
   "outputs": [
    {
     "name": "stdout",
     "output_type": "stream",
     "text": [
      "(150,)\n",
      "(150,)\n",
      "(149,)\n"
     ]
    },
    {
     "data": {
      "image/png": "[encoded data removed]",
      "text/plain": [
       "<Figure size 432x288 with 1 Axes>"
      ]
     },
     "metadata": {
      "tags": []
     },
     "output_type": "display_data"
    }
   ],
   "source": [
    "from sklearn.metrics import precision_recall_curve\n",
    "\n",
    "decision_scores = log_reg.decision_function(X_test)\n",
    "precisions, recalls, thresholds = precision_recall_curve(y_test, decision_scores)\n",
    "\n",
    "print(precisions.shape)\n",
    "print(recalls.shape)\n",
    "print(thresholds.shape)\n",
    "\n",
    "plt.plot(thresholds, precisions[:-1])\n",
    "plt.plot(thresholds, recalls[:-1])\n",
    "plt.show()"
   ]
  },
  {
   "cell_type": "markdown",
   "metadata": {
    "colab_type": "text",
    "id": "gR2SIzyFsPji"
   },
   "source": [
    "## ROC 曲线"
   ]
  },
  {
   "cell_type": "markdown",
   "metadata": {
    "colab_type": "text",
    "id": "ARJxrfPEV2cB"
   },
   "source": [
    "### 原理"
   ]
  },
  {
   "cell_type": "markdown",
   "metadata": {
    "colab_type": "text",
    "id": "SjjX2IADsTvB"
   },
   "source": [
    "- **受试者工作特征曲线(receiver operating characteristic curve)**\n",
    "- ROC 曲线也是通过遍历所有的值 来绘制整条曲线的\n",
    "- TPR 越高，同时 FPR 越低（即 ROC 曲线越陡），那么模型的性能就越好\n",
    "- 无论红蓝色样本比例如何改变，ROC 曲线都没有影响\n",
    "- 公式\n",
    "  $$TRP = \\frac{{TP}}{{TP + FN}}$$\n",
    "  $$FRP = \\frac{{FP}}{{FP + TN}}$$  \n",
    "![](https://raw.githubusercontent.com/LinCheungS/PicGo_Image_Storage/master/2020-1/20200423034108.gif)\n",
    "![](https://raw.githubusercontent.com/LinCheungS/PicGo_Image_Storage/master/2020-1/20200423034156.gif)\n",
    "![](https://raw.githubusercontent.com/LinCheungS/PicGo_Image_Storage/master/2020-1/20200423034206.gif)"
   ]
  },
  {
   "cell_type": "markdown",
   "metadata": {},
   "source": [
    "### AUC"
   ]
  },
  {
   "cell_type": "markdown",
   "metadata": {
    "colab_type": "text",
    "id": "TG1cReOWUD37"
   },
   "source": [
    "- 为了计算 ROC 曲线上的点，我们可以使用不同的分类阈值多次评估逻辑回归模型，但这样做效率非常低\n",
    "- 有一种基于排序的高效算法可以为我们提供此类信息，这种算法称为曲线下面积（Area Under Curve）。\n",
    "- 如果我们连接对角线，它的面积正好是 0.5。对角线的实际含义是：随机判断响应与不响应，正负样本覆盖率应该都是 50%，表示随机效果。 AUC = 0.5，跟随机猜测一样（例：丢铜板），模型没有预测价值。\n",
    "- ROC 曲线越陡越好，所以理想值就是 1\n",
    "- AUC 的一般判断标准\n",
    "    - 0.5 – 0.7： 效果较低，但用于预测股票已经很不错了\n",
    "    - 0.7 – 0.85： 效果一般\n",
    "    - 0.85 – 0.95： 效果很好\n",
    "    - 0.95 – 1： 效果非常好，但一般不太可能"
   ]
  },
  {
   "cell_type": "markdown",
   "metadata": {
    "colab_type": "text",
    "id": "XPZ2UvHhWVM5"
   },
   "source": [
    "### sklearn中实现ROC"
   ]
  },
  {
   "cell_type": "code",
   "execution_count": 29,
   "metadata": {
    "colab": {},
    "colab_type": "code",
    "id": "E3_64rsWWfEO"
   },
   "outputs": [],
   "source": [
    "import numpy as np\n",
    "import matplotlib.pyplot as plt\n",
    "from sklearn.metrics import f1_score\n",
    "from sklearn import datasets\n",
    "from sklearn.linear_model import LogisticRegression\n",
    "from sklearn.model_selection import train_test_split\n",
    "from sklearn.preprocessing import StandardScaler\n",
    "#加载数据\n",
    "digits = datasets.load_digits()\n",
    "X = digits.data\n",
    "y = digits.target.copy()\n",
    "y[digits.target==9] = 1\n",
    "y[digits.target!=9] = 0\n",
    "# 数据归一化\n",
    "X_train, X_test, y_train, y_test = train_test_split(X, y, random_state=666)\n",
    "standerscaler = StandardScaler()\n",
    "standerscaler.fit(X_train)\n",
    "X_train = standerscaler.transform(X_train)\n",
    "X_test = standerscaler.transform(X_test)\n",
    "log_reg = LogisticRegression()\n",
    "log_reg.fit(X_train, y_train)\n",
    "y_predict = log_reg.predict(X_test)"
   ]
  },
  {
   "cell_type": "code",
   "execution_count": 30,
   "metadata": {
    "colab": {
     "base_uri": "https://localhost:8080/",
     "height": 265
    },
    "colab_type": "code",
    "id": "qXUaf4pKWjQS",
    "outputId": "07e39054-b7f7-486d-babe-6f318562ab71"
   },
   "outputs": [
    {
     "data": {
      "image/png": "[encoded data removed]",
      "text/plain": [
       "<Figure size 432x288 with 1 Axes>"
      ]
     },
     "metadata": {
      "needs_background": "light"
     },
     "output_type": "display_data"
    }
   ],
   "source": [
    "from sklearn.metrics import roc_curve\n",
    "\n",
    "decision_scores = log_reg.decision_function(X_test)\n",
    "fprs, tprs, thresholds = roc_curve(y_test, decision_scores)\n",
    "\n",
    "plt.plot(fprs, tprs)\n",
    "plt.show()"
   ]
  },
  {
   "cell_type": "markdown",
   "metadata": {
    "colab_type": "text",
    "id": "pY3cTMe2Wavu"
   },
   "source": [
    "### sklearn中实现AUC"
   ]
  },
  {
   "cell_type": "code",
   "execution_count": 31,
   "metadata": {
    "colab": {
     "base_uri": "https://localhost:8080/",
     "height": 34
    },
    "colab_type": "code",
    "id": "8tNDvc70Ut1K",
    "outputId": "28a18c2e-5474-41ef-ef30-3d77f6bddbb2"
   },
   "outputs": [
    {
     "data": {
      "text/plain": [
       "0.989190672153635"
      ]
     },
     "execution_count": 31,
     "metadata": {},
     "output_type": "execute_result"
    }
   ],
   "source": [
    "from sklearn.metrics import roc_auc_score\n",
    "\n",
    "roc_auc_score(y_test, decision_scores)"
   ]
  },
  {
   "cell_type": "markdown",
   "metadata": {
    "colab_type": "text",
    "id": "AHGq2oEPb_t-"
   },
   "source": [
    "### sklearn中实现AUC(多分类)"
   ]
  }
 ],
 "metadata": {
  "colab": {
   "authorship_tag": "ABX9TyM42BFDbzfVquTPebaCWXK9",
   "collapsed_sections": [],
   "include_colab_link": true,
   "name": "评价分类结果.ipynb",
   "provenance": [],
   "toc_visible": true
  },
  "kernelspec": {
   "display_name": "Python 3",
   "language": "python",
   "name": "python3"
  },
  "language_info": {
   "codemirror_mode": {
    "name": "ipython",
    "version": 3
   },
   "file_extension": ".py",
   "mimetype": "text/x-python",
   "name": "python",
   "nbconvert_exporter": "python",
   "pygments_lexer": "ipython3",
   "version": "3.7.3"
  },
  "toc": {
   "base_numbering": 1,
   "nav_menu": {},
   "number_sections": true,
   "sideBar": true,
   "skip_h1_title": false,
   "title_cell": "Table of Contents",
   "title_sidebar": "Contents",
   "toc_cell": false,
   "toc_position": {
    "height": "calc(100% - 180px)",
    "left": "10px",
    "top": "150px",
    "width": "229.198px"
   },
   "toc_section_display": true,
   "toc_window_display": true
  },
  "varInspector": {
   "cols": {
    "lenName": 16,
    "lenType": 16,
    "lenVar": 40
   },
   "kernels_config": {
    "python": {
     "delete_cmd_postfix": "",
     "delete_cmd_prefix": "del ",
     "library": "var_list.py",
     "varRefreshCmd": "print(var_dic_list())"
    },
    "r": {
     "delete_cmd_postfix": ") ",
     "delete_cmd_prefix": "rm(",
     "library": "var_list.r",
     "varRefreshCmd": "cat(var_dic_list()) "
    }
   },
   "types_to_exclude": [
    "module",
    "function",
    "builtin_function_or_method",
    "instance",
    "_Feature"
   ],
   "window_display": false
  }
 },
 "nbformat": 4,
 "nbformat_minor": 1
}
